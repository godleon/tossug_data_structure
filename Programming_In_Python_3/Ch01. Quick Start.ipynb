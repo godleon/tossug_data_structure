{
 "metadata": {
  "kernelspec": {
   "codemirror_mode": {
    "name": "ipython",
    "version": 2
   },
   "display_name": "IPython (Python 2)",
   "language": "python",
   "name": "python2"
  },
  "name": "",
  "signature": "sha256:eee4bed200228d4dab0a4368338f57ccef1e0e1ae54062e4b07dd44c0fad7985"
 },
 "nbformat": 3,
 "nbformat_minor": 0,
 "worksheets": [
  {
   "cells": [
    {
     "cell_type": "code",
     "collapsed": false,
     "input": [
      "x = \"blue\"\n",
      "y = \"green\"\n",
      "z = x\n",
      "print(x)\n",
      "print(y)\n",
      "print(z)\n",
      "x = \"red\"\n",
      "print(x)\n",
      "print(y)\n",
      "print(z)"
     ],
     "language": "python",
     "metadata": {},
     "outputs": [
      {
       "output_type": "stream",
       "stream": "stdout",
       "text": [
        "blue\n",
        "green\n",
        "blue\n",
        "red\n",
        "green\n",
        "blue\n"
       ]
      }
     ],
     "prompt_number": 4
    },
    {
     "cell_type": "code",
     "collapsed": false,
     "input": [
      "\"One\", "
     ],
     "language": "python",
     "metadata": {},
     "outputs": [
      {
       "metadata": {},
       "output_type": "pyout",
       "prompt_number": 5,
       "text": [
        "('One',)"
       ]
      }
     ],
     "prompt_number": 5
    },
    {
     "cell_type": "code",
     "collapsed": false,
     "input": [
      "a = 9\n",
      "0 <= a <= 10"
     ],
     "language": "python",
     "metadata": {},
     "outputs": [
      {
       "metadata": {},
       "output_type": "pyout",
       "prompt_number": 6,
       "text": [
        "True"
       ]
      }
     ],
     "prompt_number": 6
    },
    {
     "cell_type": "code",
     "collapsed": false,
     "input": [
      "a = 5\n",
      "a += 8\n",
      "a"
     ],
     "language": "python",
     "metadata": {},
     "outputs": [
      {
       "metadata": {},
       "output_type": "pyout",
       "prompt_number": 8,
       "text": [
        "13"
       ]
      }
     ],
     "prompt_number": 8
    },
    {
     "cell_type": "code",
     "collapsed": false,
     "input": [
      "seed = [\"hello\", 'python']\n",
      "seed += \"test\"\n",
      "seed"
     ],
     "language": "python",
     "metadata": {},
     "outputs": [
      {
       "metadata": {},
       "output_type": "pyout",
       "prompt_number": 9,
       "text": [
        "['hello', 'python', 't', 'e', 's', 't']"
       ]
      }
     ],
     "prompt_number": 9
    },
    {
     "cell_type": "code",
     "collapsed": false,
     "input": [
      "seed += [\"test\"]\n",
      "seed"
     ],
     "language": "python",
     "metadata": {},
     "outputs": [
      {
       "metadata": {},
       "output_type": "pyout",
       "prompt_number": 10,
       "text": [
        "['hello', 'python', 't', 'e', 's', 't', 'test']"
       ]
      }
     ],
     "prompt_number": 10
    },
    {
     "cell_type": "heading",
     "level": 2,
     "metadata": {},
     "source": [
      "bigdigits.py"
     ]
    },
    {
     "cell_type": "code",
     "collapsed": false,
     "input": [
      "import sys\n",
      "\n",
      "\n",
      "Zero = [\"  ***  \",\n",
      "        \" *   * \",\n",
      "        \"*     *\",\n",
      "        \"*     *\",\n",
      "        \"*     *\",\n",
      "        \" *   * \",\n",
      "        \"  ***  \"]\n",
      "One = [\" * \", \"** \", \" * \", \" * \", \" * \", \" * \", \"***\"]\n",
      "Two = [\" *** \", \"*   *\", \"*  * \", \"  *  \", \" *   \", \"*    \", \"*****\"]\n",
      "Three = [\" *** \", \"*   *\", \"    *\", \"  ** \", \"    *\", \"*   *\", \" *** \"]\n",
      "Four = [\"   *  \", \"  **  \", \" * *  \", \"*  *  \", \"******\", \"   *  \",\n",
      "        \"   *  \"]\n",
      "Five = [\"*****\", \"*    \", \"*    \", \" *** \", \"    *\", \"*   *\", \" *** \"]\n",
      "Six = [\" *** \", \"*    \", \"*    \", \"**** \", \"*   *\", \"*   *\", \" *** \"]\n",
      "Seven = [\"*****\", \"    *\", \"   * \", \"  *  \", \" *   \", \"*    \", \"*    \"]\n",
      "Eight = [\" *** \", \"*   *\", \"*   *\", \" *** \", \"*   *\", \"*   *\", \" *** \"]\n",
      "Nine = [\" ****\", \"*   *\", \"*   *\", \" ****\", \"    *\", \"    *\", \"    *\"]\n",
      "\n",
      "Digits = [Zero, One, Two, Three, Four, Five, Six, Seven, Eight, Nine]\n",
      "\n",
      "try:\n",
      "    digits = str(input(\"Please input a number: \"))\n",
      "    row = 0\n",
      "    while row < 7:\n",
      "        line = \"\"\n",
      "        column = 0\n",
      "        while column < len(digits):\n",
      "            number = int(digits[column])\n",
      "            digit = Digits[number]\n",
      "            line += digit[row] + \"  \"\n",
      "            column += 1\n",
      "        print(line)\n",
      "        row += 1\n",
      "except IndexError:\n",
      "    print(\"usage: bigdigits.py <number>\")\n",
      "except ValueError as err:\n",
      "    print(err, \"in\", digits)"
     ],
     "language": "python",
     "metadata": {},
     "outputs": [
      {
       "output_type": "stream",
       "stream": "stdout",
       "text": [
        "Please input a number: 123456\n",
        " *    ***    ***      *    *****   ***   \n",
        "**   *   *  *   *    **    *      *      \n",
        " *   *  *       *   * *    *      *      \n",
        " *     *      **   *  *     ***   ****   \n",
        " *    *         *  ******      *  *   *  \n",
        " *   *      *   *     *    *   *  *   *  \n",
        "***  *****   ***      *     ***    ***   \n"
       ]
      }
     ],
     "prompt_number": 13
    },
    {
     "cell_type": "heading",
     "level": 2,
     "metadata": {},
     "source": [
      "generate_grid.py"
     ]
    },
    {
     "cell_type": "code",
     "collapsed": false,
     "input": [
      "import random\n",
      "\n",
      "def get_int(msg, minimum, default):\n",
      "    while True:\n",
      "        try:\n",
      "            line = input(msg)\n",
      "            if not line and default is not None:\n",
      "                return default\n",
      "            i = int(line)\n",
      "            if i < minimum:\n",
      "                print(\"must be >=\", minimum)\n",
      "            else:\n",
      "                return i\n",
      "        except ValueError as err:\n",
      "            print(err)\n",
      "\n",
      "\n",
      "rows = get_int(\"rows: \", 1, None)\n",
      "columns = get_int(\"columns: \", 1, None)\n",
      "minimum = get_int(\"minimum (or Enter for 0): \", -1000000, 0)\n",
      "\n",
      "default = 1000\n",
      "if default < minimum:\n",
      "    default = 2 * minimum\n",
      "maximum = get_int(\"maximum (or Enter for \" + str(default) + \"): \",\n",
      "                  minimum, default)\n",
      "\n",
      "row = 0\n",
      "while row < rows:\n",
      "    line = \"\"\n",
      "    column = 0\n",
      "    while column < columns:\n",
      "        i = random.randint(minimum, maximum)\n",
      "        s = str(i)\n",
      "        while len(s) < 10:\n",
      "            s = \" \" + s\n",
      "        line += s\n",
      "        column += 1\n",
      "    print(line)\n",
      "    row += 1"
     ],
     "language": "python",
     "metadata": {},
     "outputs": [
      {
       "output_type": "stream",
       "stream": "stdout",
       "text": [
        "rows: 4\n",
        "columns: 3\n",
        "minimum (or Enter for 0): 50\n",
        "maximum (or Enter for 1000): 100\n",
        "        50        81        79\n",
        "        75        68        62\n",
        "        99        92        77\n",
        "        93        96        87\n"
       ]
      }
     ],
     "prompt_number": 14
    },
    {
     "cell_type": "heading",
     "level": 1,
     "metadata": {},
     "source": [
      "Final Parctice"
     ]
    },
    {
     "cell_type": "heading",
     "level": 2,
     "metadata": {},
     "source": [
      "1. bigdigit-its_ans.py"
     ]
    },
    {
     "cell_type": "code",
     "collapsed": false,
     "input": [
      "import sys\n",
      "\n",
      "\n",
      "Zero = [\"  ***  \",\n",
      "        \" *   * \",\n",
      "        \"*     *\",\n",
      "        \"*     *\",\n",
      "        \"*     *\",\n",
      "        \" *   * \",\n",
      "        \"  ***  \"]\n",
      "One = [\" * \", \"** \", \" * \", \" * \", \" * \", \" * \", \"***\"]\n",
      "Two = [\" *** \", \"*   *\", \"*  * \", \"  *  \", \" *   \", \"*    \", \"*****\"]\n",
      "Three = [\" *** \", \"*   *\", \"    *\", \"  ** \", \"    *\", \"*   *\", \" *** \"]\n",
      "Four = [\"   *  \", \"  **  \", \" * *  \", \"*  *  \", \"******\", \"   *  \",\n",
      "        \"   *  \"]\n",
      "Five = [\"*****\", \"*    \", \"*    \", \" *** \", \"    *\", \"*   *\", \" *** \"]\n",
      "Six = [\" *** \", \"*    \", \"*    \", \"**** \", \"*   *\", \"*   *\", \" *** \"]\n",
      "Seven = [\"*****\", \"    *\", \"   * \", \"  *  \", \" *   \", \"*    \", \"*    \"]\n",
      "Eight = [\" *** \", \"*   *\", \"*   *\", \" *** \", \"*   *\", \"*   *\", \" *** \"]\n",
      "Nine = [\" ****\", \"*   *\", \"*   *\", \" ****\", \"    *\", \"    *\", \"    *\"]\n",
      "\n",
      "Digits = [Zero, One, Two, Three, Four, Five, Six, Seven, Eight, Nine]\n",
      "\n",
      "try:\n",
      "    digits = str(input(\"Please input a number: \"))\n",
      "    row = 0\n",
      "    while row < 7:\n",
      "        line = \"\"\n",
      "        column = 0\n",
      "        while column < len(digits):\n",
      "            number = int(digits[column])\n",
      "            digit = Digits[number]\n",
      "            for c in digit[row]:\n",
      "                if c == '*':\n",
      "                    line += str(number)\n",
      "                else:\n",
      "                    line += ' '\n",
      "            line += \"  \"\n",
      "            column += 1\n",
      "        print(line)\n",
      "        row += 1\n",
      "except IndexError:\n",
      "    print(\"usage: bigdigits.py <number>\")\n",
      "except ValueError as err:\n",
      "    print(err, \"in\", digits)"
     ],
     "language": "python",
     "metadata": {},
     "outputs": [
      {
       "output_type": "stream",
       "stream": "stdout",
       "text": [
        "Please input a number: 123\n",
        " 1    222    333   \n",
        "11   2   2  3   3  \n",
        " 1   2  2       3  \n",
        " 1     2      33   \n",
        " 1    2         3  \n",
        " 1   2      3   3  \n",
        "111  22222   333   \n"
       ]
      }
     ],
     "prompt_number": 15
    },
    {
     "cell_type": "code",
     "collapsed": false,
     "input": [],
     "language": "python",
     "metadata": {},
     "outputs": []
    }
   ],
   "metadata": {}
  }
 ]
}