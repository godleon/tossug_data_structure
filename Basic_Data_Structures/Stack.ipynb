{
 "metadata": {
  "kernelspec": {
   "codemirror_mode": {
    "name": "ipython",
    "version": 3
   },
   "display_name": "IPython (Python 3)",
   "language": "python",
   "name": "python3"
  },
  "name": "",
  "signature": "sha256:8f4707550a2696c82e6a1dddff380ed552716aa636e3e3bd9a0c310ae3bf5f77"
 },
 "nbformat": 3,
 "nbformat_minor": 0,
 "worksheets": [
  {
   "cells": [
    {
     "cell_type": "heading",
     "level": 1,
     "metadata": {},
     "source": [
      "Implementing a Stack in Python"
     ]
    },
    {
     "cell_type": "code",
     "collapsed": false,
     "input": [
      "class Stack:\n",
      "    def __init__(self):\n",
      "        self.items = []\n",
      "        \n",
      "    def isEmpty(self):\n",
      "        return self.items == []\n",
      "    \n",
      "    def push(self, item):\n",
      "        self.items.append(item)\n",
      "        \n",
      "    def pop(self):\n",
      "        return self.items.pop()\n",
      "    \n",
      "    def peek(self):\n",
      "        return self.items[len(self.items) - 1]\n",
      "    \n",
      "    def size(self):\n",
      "        return len(self.items)"
     ],
     "language": "python",
     "metadata": {},
     "outputs": [],
     "prompt_number": 1
    },
    {
     "cell_type": "code",
     "collapsed": false,
     "input": [
      "s=Stack()\n",
      "\n",
      "print(s.isEmpty())\n",
      "s.push(4)\n",
      "s.push('dog')\n",
      "print(s.peek())\n",
      "s.push(True)\n",
      "print(s.size())\n",
      "print(s.isEmpty())\n",
      "s.push(8.4)\n",
      "print(s.pop())\n",
      "print(s.pop())\n",
      "print(s.size())"
     ],
     "language": "python",
     "metadata": {},
     "outputs": [
      {
       "output_type": "stream",
       "stream": "stdout",
       "text": [
        "True\n",
        "dog\n",
        "3\n",
        "False\n",
        "8.4\n",
        "True\n",
        "2\n"
       ]
      }
     ],
     "prompt_number": 2
    },
    {
     "cell_type": "heading",
     "level": 1,
     "metadata": {},
     "source": [
      "Write a function revstring(mystr) that uses a stack to reverse the characters in a string."
     ]
    },
    {
     "cell_type": "code",
     "collapsed": false,
     "input": [
      "def revstring(mystr):\n",
      "    s = Stack()\n",
      "    for c in mystr:\n",
      "        s.push(c)\n",
      "    rev_string = []\n",
      "    while not s.isEmpty():\n",
      "        rev_string.append(s.pop())\n",
      "    return ''.join(rev_string)\n",
      "\n",
      "revstring('Hello World!')"
     ],
     "language": "python",
     "metadata": {},
     "outputs": [
      {
       "metadata": {},
       "output_type": "pyout",
       "prompt_number": 3,
       "text": [
        "'!dlroW olleH'"
       ]
      }
     ],
     "prompt_number": 3
    },
    {
     "cell_type": "code",
     "collapsed": false,
     "input": [
      "def parChecker1(sym_str):\n",
      "    s = Stack()\n",
      "    balanced = True\n",
      "    idx = 0\n",
      "    while idx < len(sym_str) and balanced:\n",
      "        symbol = sym_str[idx]\n",
      "        if symbol == '(':\n",
      "            s.push(symbol)\n",
      "        else:\n",
      "            if s.isEmpty():\n",
      "                balanced = False\n",
      "            else:\n",
      "                s.pop()\n",
      "        idx = idx + 1\n",
      "                \n",
      "    if s.isEmpty() and balanced:\n",
      "        return True\n",
      "    else:\n",
      "        return False"
     ],
     "language": "python",
     "metadata": {},
     "outputs": [],
     "prompt_number": 8
    },
    {
     "cell_type": "code",
     "collapsed": false,
     "input": [
      "print(parChecker1('((()))'))\n",
      "print(parChecker1('(()'))"
     ],
     "language": "python",
     "metadata": {},
     "outputs": [
      {
       "output_type": "stream",
       "stream": "stdout",
       "text": [
        "True\n",
        "False\n"
       ]
      }
     ],
     "prompt_number": 9
    },
    {
     "cell_type": "markdown",
     "metadata": {},
     "source": [
      "$$\n",
      "\\alpha \\beta \\Sigma\n",
      "$$"
     ]
    },
    {
     "cell_type": "heading",
     "level": 1,
     "metadata": {},
     "source": [
      "Balanced Symbols (A General Case)"
     ]
    },
    {
     "cell_type": "code",
     "collapsed": false,
     "input": [
      "def matches(open, close):\n",
      "    opens = \"([{\"\n",
      "    closers = \")]}\"\n",
      "    return opens.index(open) == closers.index(close)\n",
      "\n",
      "def parChecker2(sym_str):\n",
      "    s = Stack()\n",
      "    balanced = True\n",
      "    idx = 0\n",
      "    while idx < len(sym_str) and balanced:\n",
      "        symbol = sym_str[idx]\n",
      "        if symbol in \"([{\":\n",
      "            s.push(symbol)\n",
      "        else:\n",
      "            if s.isEmpty():\n",
      "                balanced = False\n",
      "            else:\n",
      "                top = s.pop()\n",
      "                if not matches(top, symbol):\n",
      "                    balanced = False\n",
      "        idx = idx + 1\n",
      "        \n",
      "    if balanced and s.isEmpty():\n",
      "        return True\n",
      "    else:\n",
      "        return False\n",
      "    \n",
      "print(parChecker2('{{([][])}()}'))\n",
      "print(parChecker2('[{()]'))"
     ],
     "language": "python",
     "metadata": {},
     "outputs": [
      {
       "output_type": "stream",
       "stream": "stdout",
       "text": [
        "True\n",
        "False\n"
       ]
      }
     ],
     "prompt_number": 14
    },
    {
     "cell_type": "heading",
     "level": 1,
     "metadata": {},
     "source": [
      "Converting Decimal Numbers to Binary Numbers"
     ]
    },
    {
     "cell_type": "code",
     "collapsed": false,
     "input": [
      "def devidedBy2(dec_num):\n",
      "    rem_stack = Stack()\n",
      "    \n",
      "    while dec_num > 0:\n",
      "        rem_stack.push(dec_num % 2)\n",
      "        dec_num = dec_num // 2\n",
      "        \n",
      "    bin_str = \"\"\n",
      "    while not rem_stack.isEmpty():\n",
      "        bin_str = bin_str + str(rem_stack.pop())\n",
      "    return bin_str\n",
      "\n",
      "print(devidedBy2(1023))"
     ],
     "language": "python",
     "metadata": {},
     "outputs": [
      {
       "output_type": "stream",
       "stream": "stdout",
       "text": [
        "1111111111\n"
       ]
      }
     ],
     "prompt_number": 18
    },
    {
     "cell_type": "code",
     "collapsed": false,
     "input": [],
     "language": "python",
     "metadata": {},
     "outputs": []
    }
   ],
   "metadata": {}
  }
 ]
}