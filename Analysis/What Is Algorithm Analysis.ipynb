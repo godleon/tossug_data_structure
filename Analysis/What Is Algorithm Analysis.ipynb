{
 "worksheets": [
  {
   "cells": [
    {
     "cell_type": "code",
     "metadata": {},
     "outputs": [
      {
       "output_type": "stream",
       "stream": "Sum is 500000500000 required  0.1520081 seconds\nSum is 500000500000 required  0.1440051 seconds",
       "text": [
        "Sum is 500000500000 required  0.1520081 seconds\nSum is 500000500000 required  0.1440051 seconds"
       ]
      },
      {
       "output_type": "stream",
       "stream": "\nSum is 500000500000 required  0.1420109 seconds",
       "text": [
        "\nSum is 500000500000 required  0.1420109 seconds"
       ]
      },
      {
       "output_type": "stream",
       "stream": "\nSum is 500000500000 required  0.1450090 seconds",
       "text": [
        "\nSum is 500000500000 required  0.1450090 seconds"
       ]
      },
      {
       "output_type": "stream",
       "stream": "\nSum is 500000500000 required  0.1420090 seconds",
       "text": [
        "\nSum is 500000500000 required  0.1420090 seconds"
       ]
      },
      {
       "output_type": "stream",
       "stream": "\n",
       "text": [
        "\n"
       ]
      }
     ],
     "input": [
      "import time\n",
      "\n",
      "def sumOfN(n):\n",
      "    start = time.time()\n",
      "    \n",
      "    theSum = 0\n",
      "    for i in range(1, n + 1):\n",
      "        theSum = theSum + i\n",
      "        \n",
      "    end = time.time()\n",
      "    \n",
      "    return theSum, end - start\n",
      "\n",
      "for i in range(5):\n",
      "    print(\"Sum is %d required %10.7f seconds\" % sumOfN(1000000))"
     ],
     "language": "python",
     "prompt_number": 1
    },
    {
     "cell_type": "code",
     "metadata": {},
     "outputs": [
      {
       "output_type": "stream",
       "stream": "stdout",
       "text": [
        "Sum is 5000000000050000297984 required 0.000000000 seconds\n",
        "Sum is 5000000000050000297984 required 0.000000000 seconds\n",
        "Sum is 5000000000050000297984 required 0.000000000 seconds\n",
        "Sum is 5000000000050000297984 required 0.000000000 seconds\n",
        "Sum is 5000000000050000297984 required 0.000000000 seconds\n"
       ]
      }
     ],
     "input": [
      "import time\n",
      "\n",
      "def sumOfN3(n):\n",
      "    start = time.time()\n",
      "    result = (n * (n + 1)) / 2\n",
      "    end = time.time()\n",
      "    return result, end - start\n",
      "\n",
      "for i in range(5):\n",
      "    print(\"Sum is %d required %10.9f seconds\" % sumOfN3(100000000000))"
     ],
     "language": "python",
     "prompt_number": 22
    },
    {
     "cell_type": "code",
     "metadata": {},
     "outputs": [],
     "input": [
      ""
     ],
     "language": "python"
    }
   ]
  }
 ],
 "cells": [],
 "metadata": {
  "name": "",
  "signature": "sha256:f7568092a0956467ea3366d65c605c1f8d0d5955ec59d4402ff9a492bfbf3305"
 },
 "nbformat": 3,
 "nbformat_minor": 0
}