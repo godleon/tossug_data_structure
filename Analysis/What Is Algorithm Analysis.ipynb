{
 "metadata": {
  "kernelspec": {
   "codemirror_mode": {
    "name": "ipython",
    "version": 2
   },
   "display_name": "IPython (Python 2)",
   "language": "python",
   "name": "python2"
  },
  "name": "",
  "signature": "sha256:1ef5fe56d3ab4d4f043a8754695f160a921247327cb970be980b6d03cf9958c7"
 },
 "nbformat": 3,
 "nbformat_minor": 0,
 "worksheets": [
  {
   "cells": [
    {
     "cell_type": "code",
     "collapsed": false,
     "input": [
      "import time\n",
      "\n",
      "def sumOfN(n):\n",
      "    start = time.time()\n",
      "    \n",
      "    theSum = 0\n",
      "    for i in range(1, n + 1):\n",
      "        theSum = theSum + i\n",
      "        \n",
      "    end = time.time()\n",
      "    \n",
      "    return theSum, end - start\n",
      "\n",
      "for i in range(5):\n",
      "    print(\"Sum is %d required %10.7f seconds\" % sumOfN(1000000))"
     ],
     "language": "python",
     "metadata": {},
     "outputs": [
      {
       "output_type": "stream",
       "stream": "stdout",
       "text": [
        "Sum is 500000500000 required  0.0843408 seconds\n",
        "Sum is 500000500000 required  0.0723779 seconds\n",
        "Sum is 500000500000 required  0.0696311 seconds\n",
        "Sum is 500000500000 required  0.0695422 seconds\n",
        "Sum is 500000500000 required  0.0700321 seconds\n"
       ]
      }
     ],
     "prompt_number": 1
    },
    {
     "cell_type": "code",
     "collapsed": false,
     "input": [
      "import time\n",
      "\n",
      "def sumOfN3(n):\n",
      "    start = time.time()\n",
      "    result = (n * (n + 1)) / 2\n",
      "    end = time.time()\n",
      "    return result, end - start\n",
      "\n",
      "for i in range(5):\n",
      "    print(\"Sum is %d required %10.9f seconds\" % sumOfN3(100000000000))"
     ],
     "language": "python",
     "metadata": {},
     "outputs": [
      {
       "output_type": "stream",
       "stream": "stdout",
       "text": [
        "Sum is 5000000000050000000000 required 0.000005007 seconds\n",
        "Sum is 5000000000050000000000 required 0.000001907 seconds\n",
        "Sum is 5000000000050000000000 required 0.000001192 seconds\n",
        "Sum is 5000000000050000000000 required 0.000001907 seconds\n",
        "Sum is 5000000000050000000000 required 0.000001907 seconds\n"
       ]
      }
     ],
     "prompt_number": 2
    },
    {
     "cell_type": "code",
     "collapsed": false,
     "input": [
      "# \u4e2d\u6587\u6e2c\u8a66\u771f\u7684\u6c92\u554f\u984c\u55ce? \u6e38\u932b\u5803~\u5f88\u6015\u53c8\u639b\u6389! \u9676\u5586!\n",
      "print('\u4e2d\u6587\u6e2c\u8a66\u771f\u7684\u6c92\u554f\u984c\u55ce? \u6e38\u932b\u5803~\u5f88\u6015\u53c8\u639b\u6389! \u9676\u5586!')"
     ],
     "language": "python",
     "metadata": {},
     "outputs": [
      {
       "output_type": "stream",
       "stream": "stdout",
       "text": [
        "\u4e2d\u6587\u6e2c\u8a66\u771f\u7684\u6c92\u554f\u984c\u55ce? \u6e38\u932b\u5803~\u5f88\u6015\u53c8\u639b\u6389! \u9676\u5586!\n"
       ]
      }
     ],
     "prompt_number": 4
    },
    {
     "cell_type": "code",
     "collapsed": false,
     "input": [],
     "language": "python",
     "metadata": {},
     "outputs": []
    }
   ],
   "metadata": {}
  }
 ]
}