{
 "metadata": {
  "name": "",
  "signature": "sha256:ec68ae495b10c91da28187b273a1d344b329929c1fdefd7e6baf2b21f026f2e8"
 },
 "nbformat": 3,
 "nbformat_minor": 0,
 "worksheets": [
  {
   "cells": [
    {
     "cell_type": "heading",
     "level": 3,
     "metadata": {},
     "source": []
    }
   ],
   "metadata": {}
  }
 ]
}