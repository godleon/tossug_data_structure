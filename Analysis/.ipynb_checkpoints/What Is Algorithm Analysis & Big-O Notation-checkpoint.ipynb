{
 "metadata": {
  "kernelspec": {
   "codemirror_mode": {
    "name": "ipython",
    "version": 3
   },
   "display_name": "IPython (Python 3)",
   "language": "python",
   "name": "python3"
  },
  "name": "",
  "signature": "sha256:2dcf6e0a45fb530cba17b2f40da76fb5b11b471d6d78a60fab99f9b117bb8307"
 },
 "nbformat": 3,
 "nbformat_minor": 0,
 "worksheets": [
  {
   "cells": [
    {
     "cell_type": "code",
     "collapsed": false,
     "input": [
      "import time\n",
      "\n",
      "# BigO(n)\n",
      "def sumOfN(n):\n",
      "    start = time.time()\n",
      "    \n",
      "    theSum = 0\n",
      "    for i in range(1, n + 1):\n",
      "        theSum = theSum + i\n",
      "        \n",
      "    end = time.time()\n",
      "    \n",
      "    return theSum, end - start\n",
      "\n",
      "for i in range(5):\n",
      "    print(\"Sum is %d required %10.7f seconds\" % sumOfN(1000000))"
     ],
     "language": "python",
     "metadata": {},
     "outputs": [
      {
       "output_type": "stream",
       "stream": "stdout",
       "text": [
        "Sum is 500000500000 required  0.0843408 seconds\n",
        "Sum is 500000500000 required  0.0723779 seconds\n",
        "Sum is 500000500000 required  0.0696311 seconds\n",
        "Sum is 500000500000 required  0.0695422 seconds\n",
        "Sum is 500000500000 required  0.0700321 seconds\n"
       ]
      }
     ],
     "prompt_number": 1
    },
    {
     "cell_type": "code",
     "collapsed": false,
     "input": [
      "import time\n",
      "\n",
      "# BigO(1)\n",
      "def sumOfN3(n):\n",
      "    start = time.time()\n",
      "    result = (n * (n + 1)) / 2\n",
      "    end = time.time()\n",
      "    return result, end - start\n",
      "\n",
      "for i in range(5):\n",
      "    print(\"Sum is %d required %10.9f seconds\" % sumOfN3(100000000000))"
     ],
     "language": "python",
     "metadata": {},
     "outputs": [
      {
       "output_type": "stream",
       "stream": "stdout",
       "text": [
        "Sum is 5000000000050000000000 required 0.000005007 seconds\n",
        "Sum is 5000000000050000000000 required 0.000001907 seconds\n",
        "Sum is 5000000000050000000000 required 0.000001192 seconds\n",
        "Sum is 5000000000050000000000 required 0.000001907 seconds\n",
        "Sum is 5000000000050000000000 required 0.000001907 seconds\n"
       ]
      }
     ],
     "prompt_number": 2
    },
    {
     "cell_type": "markdown",
     "metadata": {},
     "source": [
      "Self Check\n",
      "==========\n",
      "Write two Python functions to find the minimum number in a list. The first function should compare each number to every other number on the list. O(n2). The second function should be linear O(n)."
     ]
    },
    {
     "cell_type": "code",
     "collapsed": false,
     "input": [
      "# O(n^2)\n",
      "def find_min_1(num_list):\n",
      "    min_num = num_list[0]\n",
      "    for i in num_list:\n",
      "        is_min = True\n",
      "        for j in num_list:\n",
      "            if i > j:\n",
      "                is_min = False\n",
      "        if is_min:\n",
      "            min_num = i\n",
      "    return min_num\n",
      "\n",
      "find_min_1([4, 5, 7, 9, 2, 1, 3, 10, 20, 15])"
     ],
     "language": "python",
     "metadata": {},
     "outputs": [
      {
       "metadata": {},
       "output_type": "pyout",
       "prompt_number": 5,
       "text": [
        "1"
       ]
      }
     ],
     "prompt_number": 5
    },
    {
     "cell_type": "code",
     "collapsed": false,
     "input": [
      "# O(n)\n",
      "def find_min_2(num_list):\n",
      "    min_num = num_list[0]\n",
      "    for i in num_list:\n",
      "        if i < min_num:\n",
      "            min_num = i\n",
      "    return min_num\n",
      "\n",
      "find_min_2([4, 5, 7, 9, 2, 1, 3, 10, 20, 15])"
     ],
     "language": "python",
     "metadata": {},
     "outputs": [
      {
       "metadata": {},
       "output_type": "pyout",
       "prompt_number": 6,
       "text": [
        "1"
       ]
      }
     ],
     "prompt_number": 6
    },
    {
     "cell_type": "code",
     "collapsed": false,
     "input": [
      "from random import randrange\n",
      "import time\n",
      "\n",
      "for list_size in range(1000, 10001, 1000):\n",
      "    num_list = [randrange(100000) for x in range(list_size)]\n",
      "    start = time.time()\n",
      "    print(\"Min number in num_list: %d\" % find_min_1(num_list))\n",
      "    end = time.time()\n",
      "    print('size: %d, time: %f' % (list_size, end - start))\n",
      "    "
     ],
     "language": "python",
     "metadata": {},
     "outputs": [
      {
       "output_type": "stream",
       "stream": "stdout",
       "text": [
        "Min number in num_list: 48\n",
        "size: 1000, time: 0.054388\n",
        "Min number in num_list: 59\n",
        "size: 2000, time: 0.213670\n",
        "Min number in num_list: 49\n",
        "size: 3000, time: 0.438622\n",
        "Min number in num_list: 16\n",
        "size: 4000, time: 0.728087\n",
        "Min number in num_list: 2\n",
        "size: 5000, time: 1.124561\n",
        "Min number in num_list: 7\n",
        "size: 6000, time: 1.620791\n",
        "Min number in num_list: 4\n",
        "size: 7000, time: 2.204544\n",
        "Min number in num_list: 6\n",
        "size: 8000, time: 2.958142\n",
        "Min number in num_list: 6\n",
        "size: 9000, time: 3.651360\n",
        "Min number in num_list: 17\n",
        "size: 10000, time: 4.513173\n"
       ]
      }
     ],
     "prompt_number": 12
    },
    {
     "cell_type": "code",
     "collapsed": false,
     "input": [
      "from random import randrange\n",
      "import time\n",
      "\n",
      "for list_size in range(1000, 10001, 1000):\n",
      "    num_list = [randrange(100000) for x in range(list_size)]\n",
      "    start = time.time()\n",
      "    print(\"Min number in num_list: %d\" % find_min_2(num_list))\n",
      "    end = time.time()\n",
      "    print('size: %d, time: %f' % (list_size, end - start))"
     ],
     "language": "python",
     "metadata": {},
     "outputs": [
      {
       "output_type": "stream",
       "stream": "stdout",
       "text": [
        "Min number in num_list: 152\n",
        "size: 1000, time: 0.000113\n",
        "Min number in num_list: 69\n",
        "size: 2000, time: 0.000106\n",
        "Min number in num_list: 17\n",
        "size: 3000, time: 0.000141\n",
        "Min number in num_list: 39\n",
        "size: 4000, time: 0.000174\n",
        "Min number in num_list: 21\n",
        "size: 5000, time: 0.000212\n",
        "Min number in num_list: 7\n",
        "size: 6000, time: 0.000249\n",
        "Min number in num_list: 13\n",
        "size: 7000, time: 0.000284\n",
        "Min number in num_list: 25\n",
        "size: 8000, time: 0.000320\n",
        "Min number in num_list: 0\n",
        "size: 9000, time: 0.000353\n",
        "Min number in num_list: 0\n",
        "size: 10000, time: 0.000879\n"
       ]
      }
     ],
     "prompt_number": 13
    },
    {
     "cell_type": "code",
     "collapsed": false,
     "input": [],
     "language": "python",
     "metadata": {},
     "outputs": []
    }
   ],
   "metadata": {}
  }
 ]
}