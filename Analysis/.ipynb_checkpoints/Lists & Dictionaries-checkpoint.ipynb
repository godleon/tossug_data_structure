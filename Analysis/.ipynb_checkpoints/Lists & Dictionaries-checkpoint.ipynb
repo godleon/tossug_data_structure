{
 "metadata": {
  "kernelspec": {
   "codemirror_mode": {
    "name": "ipython",
    "version": 3
   },
   "display_name": "IPython (Python 3)",
   "language": "python",
   "name": "python3"
  },
  "name": "",
  "signature": "sha256:d9b9cb4484de818e201023aaad6bc4966bdedf756d7087aad592e2d855199316"
 },
 "nbformat": 3,
 "nbformat_minor": 0,
 "worksheets": [
  {
   "cells": [
    {
     "cell_type": "heading",
     "level": 1,
     "metadata": {},
     "source": [
      "Lists"
     ]
    },
    {
     "cell_type": "code",
     "collapsed": false,
     "input": [
      "from timeit import Timer\n",
      "\n",
      "def test1():\n",
      "    l = []\n",
      "    for i in range(1000):\n",
      "        l = l + [i]\n",
      "        \n",
      "def test2():\n",
      "    l = []\n",
      "    for i in range(1000):\n",
      "        l.append(i)\n",
      "        \n",
      "def test3():\n",
      "    l = [i for i in range(1000)]\n",
      "    \n",
      "def test4():\n",
      "    l = list(range(1000))\n",
      "    \n",
      "\n",
      "t1 = Timer(\"test1()\", \"from __main__ import test1\")\n",
      "print(\"concat \", t1.timeit(number = 10000), \"milliseconds\")\n",
      "\n",
      "t2 = Timer(\"test2()\", \"from __main__ import test2\")\n",
      "print(\"append \", t2.timeit(number = 10000), \"milliseconds\")\n",
      "\n",
      "t3 = Timer(\"test3()\", \"from __main__ import test3\")\n",
      "print(\"comprehension \", t3.timeit(number = 10000), \"milliseconds\")\n",
      "\n",
      "t4 = Timer(\"test4()\", \"from __main__ import test4\")\n",
      "print(\"list range \", t4.timeit(number = 10000), \"milliseconds\")"
     ],
     "language": "python",
     "metadata": {},
     "outputs": [
      {
       "output_type": "stream",
       "stream": "stdout",
       "text": [
        "('concat ', 23.434952974319458, 'milliseconds')\n",
        "('append ', 0.9349358081817627, 'milliseconds')\n",
        "('comprehension ', 0.46400904655456543, 'milliseconds')\n",
        "('list range ', 0.15186190605163574, 'milliseconds')\n"
       ]
      }
     ],
     "prompt_number": 8
    },
    {
     "cell_type": "markdown",
     "metadata": {},
     "source": [
      "### Big-O Efficiency of Python List Operators\n",
      "\n",
      "| Operation | Big-O Efficiency |\n",
      "|-----------|------------------|\n",
      "| index [] | O(1) |\n",
      "| index assignment | O(1) |\n",
      "| append | O(1) |\n",
      "| pop() | O(1) |\n",
      "| pop(i) | O(n) |\n",
      "| insert(i,item) | O(n) |\n",
      "| del operator | O(n) |\n",
      "| iteration | O(n) |\n",
      "| contains (in) | O(n) |\n",
      "| get slice [x:y] | O(k) |\n",
      "| del slice | O(n) |\n",
      "| set slice | O(n + k) |\n",
      "| reverse | O(n) |\n",
      "| concatenate | O(k) |\n",
      "| sort | O(nlogn) |\n",
      "| multiply | O(nk) |"
     ]
    },
    {
     "cell_type": "code",
     "collapsed": false,
     "input": [
      "# O(n)\n",
      "popzero = timeit.Timer(\"x.pop(0)\", \"from __main__ import x\")\n",
      "\n",
      "# O(1)\n",
      "popend = timeit.Timer(\"x.pop()\", \"from __main__ import x\")\n",
      "\n",
      "x = list(range(2000000))\n",
      "popzero.timeit(number = 1000)"
     ],
     "language": "python",
     "metadata": {},
     "outputs": [
      {
       "metadata": {},
       "output_type": "pyout",
       "prompt_number": 13,
       "text": [
        "1.787081003189087"
       ]
      }
     ],
     "prompt_number": 13
    },
    {
     "cell_type": "code",
     "collapsed": false,
     "input": [
      "x = list(range(2000000))\n",
      "popend.timeit(number=1000)"
     ],
     "language": "python",
     "metadata": {},
     "outputs": [
      {
       "metadata": {},
       "output_type": "pyout",
       "prompt_number": 14,
       "text": [
        "0.0003731250762939453"
       ]
      }
     ],
     "prompt_number": 14
    },
    {
     "cell_type": "code",
     "collapsed": false,
     "input": [
      "print(\"pop(0)   pop()\")\n",
      "for i in range(1000000, 100000001, 1000000):\n",
      "    x = list(range(i))\n",
      "    pt = popend.timeit(number = 1000)\n",
      "    x = list(range(i))\n",
      "    pz = popzero.timeit(number = 1000)\n",
      "    print(\"%15.5f, %15.5f\" %(pz, pt))"
     ],
     "language": "python",
     "metadata": {},
     "outputs": [
      {
       "output_type": "stream",
       "stream": "stdout",
       "text": [
        "pop(0)   pop()\n",
        "        0.49032,         0.00021\n",
        "        1.79901,         0.00049\n",
        "        3.33049,         0.00014\n",
        "        4.58782,         0.00016\n",
        "        5.61680,         0.00014\n",
        "        5.95516,         0.00011\n",
        "        6.97482,         0.00012\n",
        "        7.92830,         0.00013\n",
        "        8.93066,         0.00011\n",
        "       10.13850,         0.00012\n",
        "       11.11115,         0.00012\n",
        "       12.00050,         0.00012\n",
        "       12.84639,         0.00013\n",
        "       14.05681,         0.00012\n",
        "       15.04670,         0.00012\n",
        "       15.93802,         0.00014\n",
        "       16.76755,         0.00013\n",
        "       17.95202,         0.00012"
       ]
      }
     ]
    },
    {
     "cell_type": "heading",
     "level": 1,
     "metadata": {},
     "source": [
      "Dictionaries"
     ]
    },
    {
     "cell_type": "markdown",
     "metadata": {},
     "source": [
      "Get item and set item operations on a dictionary are O(1).\n",
      "\n",
      "Checking to see whether a key is in the dictionary or not is also O(1).\n",
      "\n",
      "### Big-O Efficiency of Python Dictionary Operations\n",
      "\n",
      "| operation | Big-O Efficiency |\n",
      "|-----------|------------------|\n",
      "| copy | O(n) |\n",
      "| get item | O(1) |\n",
      "| set item | O(1) |\n",
      "| delete item | O(1) |\n",
      "| contains (in) | O(1) |\n",
      "| iteration | O(n) |"
     ]
    },
    {
     "cell_type": "code",
     "collapsed": false,
     "input": [
      "import timeit, random\n",
      "\n",
      "for i in range(10000, 200001, 20000):\n",
      "    t = timeit.Timer(\"random.randrange(%d) in x\" % i, \"from __main__ import random, x\")\n",
      "    \n",
      "    x = list(range(i))\n",
      "    lst_time = t.timeit(number = 1000)\n",
      "    \n",
      "    x = { j: None for j in range(i) }\n",
      "    d_time = t.timeit(number = 1000)\n",
      "    \n",
      "    print(\"%d, %10.3f, %10.3f\" % (i, lst_time, d_time))"
     ],
     "language": "python",
     "metadata": {},
     "outputs": [
      {
       "output_type": "stream",
       "stream": "stdout",
       "text": [
        "10000,      0.114,      0.002\n",
        "30000,      0.341,      0.002\n",
        "50000,      0.577,      0.002\n",
        "70000,      0.757,      0.002\n",
        "90000,      0.835,      0.002\n",
        "110000,      1.005,      0.002\n",
        "130000,      1.210,      0.003\n",
        "150000,      1.438,      0.002\n",
        "170000,      1.658,      0.002\n",
        "190000,      1.795,      0.002\n"
       ]
      }
     ],
     "prompt_number": 14
    },
    {
     "cell_type": "markdown",
     "metadata": {},
     "source": [
      "![Comparing the \"in\" Operator for Python Lists and Dictionaries](http://interactivepython.org/runestone/static/pythonds/_images/listvdict.png)"
     ]
    },
    {
     "cell_type": "code",
     "collapsed": false,
     "input": [],
     "language": "python",
     "metadata": {},
     "outputs": []
    }
   ],
   "metadata": {}
  }
 ]
}