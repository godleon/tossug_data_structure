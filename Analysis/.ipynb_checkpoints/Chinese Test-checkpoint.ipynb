{
 "metadata": {
  "name": "",
  "signature": "sha256:826cbfb743b731bfce3d40b8073b837e84887eaa3bf45dd80fbd9c6987cfc83e"
 },
 "nbformat": 3,
 "nbformat_minor": 0,
 "worksheets": [
  {
   "cells": [
    {
     "cell_type": "code",
     "collapsed": false,
     "input": [
      "# \u4e2d\u6587\u6e2c\u8a66\u6e38\u932b\u5803"
     ],
     "language": "python",
     "metadata": {},
     "outputs": []
    },
    {
     "cell_type": "code",
     "collapsed": false,
     "input": [],
     "language": "python",
     "metadata": {},
     "outputs": []
    }
   ],
   "metadata": {}
  }
 ]
}