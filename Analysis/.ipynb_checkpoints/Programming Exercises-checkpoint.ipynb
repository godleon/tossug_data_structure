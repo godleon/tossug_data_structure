{
 "metadata": {
  "kernelspec": {
   "codemirror_mode": {
    "name": "ipython",
    "version": 2
   },
   "display_name": "IPython (Python 2)",
   "language": "python",
   "name": "python2"
  },
  "name": "",
  "signature": "sha256:f210223aa05de3f5404b22b92fe088919f08dd5f785db96e8830512b5faf0ddc"
 },
 "nbformat": 3,
 "nbformat_minor": 0,
 "worksheets": [
  {
   "cells": [
    {
     "cell_type": "heading",
     "level": 3,
     "metadata": {},
     "source": [
      "1. Devise an experiment to verify that the list index operator is O(1)"
     ]
    },
    {
     "cell_type": "code",
     "collapsed": false,
     "input": [
      "import time, timeit, random\n",
      "\n",
      "for i in range(1, 10000001, 500000):\n",
      "    lst = list(range(i))\n",
      "    test_num = random.randrange(i)\n",
      "    start = time.time()\n",
      "    result = test_num in lst\n",
      "    end = time.time()\n",
      "    print('list size = %d, time_consume = %10.7f' % (i, end - start))"
     ],
     "language": "python",
     "metadata": {},
     "outputs": [
      {
       "output_type": "stream",
       "stream": "stdout",
       "text": [
        "list size = 1, time_consume =  0.0000021\n",
        "list size = 500001, time_consume =  0.0050409\n",
        "list size = 1000001, time_consume =  0.0172801\n",
        "list size = 1500001, time_consume =  0.0050459\n",
        "list size = 2000001, time_consume =  0.0359089\n",
        "list size = 2500001, time_consume =  0.0431299\n",
        "list size = 3000001, time_consume =  0.0398860\n",
        "list size = 3500001, time_consume =  0.0260651\n",
        "list size = 4000001, time_consume =  0.0511389\n",
        "list size = 4500001, time_consume =  0.0551429\n",
        "list size = 5000001, time_consume =  0.0753050\n",
        "list size = 5500001, time_consume =  0.0538170\n",
        "list size = 6000001, time_consume =  0.0723491\n",
        "list size = 6500001, time_consume =  0.1240480\n",
        "list size = 7000001, time_consume =  0.0739160\n",
        "list size = 7500001, time_consume =  0.0545530\n",
        "list size = 8000001, time_consume =  0.1047161\n",
        "list size = 8500001, time_consume =  0.1459451\n",
        "list size = 9000001, time_consume =  0.0493748\n",
        "list size = 9500001, time_consume =  0.1614511\n"
       ]
      }
     ],
     "prompt_number": 19
    },
    {
     "cell_type": "code",
     "collapsed": false,
     "input": [
      "for i in range(1, 1000001, 50000):\n",
      "    dics = { val: random.randrange(i) for val in range(i) }\n",
      "    test_key = random.randrange(i)\n",
      "    \n",
      "    get_start = time.time()\n",
      "    result = dics.get(test_key)\n",
      "    get_end = time.time()\n",
      "    \n",
      "    set_start = time.time()\n",
      "    dics[random.randrange(i)] = None\n",
      "    set_end = time.time()\n",
      "    \n",
      "    print('dictionary size = %d, time_consume(get) = %10.7f, time_consume(set) = %10.7f' % \n",
      "          (i, get_end - get_start, set_end - set_start))"
     ],
     "language": "python",
     "metadata": {},
     "outputs": [
      {
       "output_type": "stream",
       "stream": "stdout",
       "text": [
        "dictionary size = 1, time_consume(get) =  0.0000019, time_consume(set) =  0.0000031\n",
        "dictionary size = 50001, time_consume(get) =  0.0000041, time_consume(set) =  0.0000029\n",
        "dictionary size = 100001, time_consume(get) =  0.0000050, time_consume(set) =  0.0000041\n",
        "dictionary size = 150001, time_consume(get) =  0.0000050, time_consume(set) =  0.0000031\n",
        "dictionary size = 200001, time_consume(get) =  0.0000041, time_consume(set) =  0.0000031\n",
        "dictionary size = 250001, time_consume(get) =  0.0000041, time_consume(set) =  0.0000029\n",
        "dictionary size = 300001, time_consume(get) =  0.0000050, time_consume(set) =  0.0000041\n",
        "dictionary size = 350001, time_consume(get) =  0.0000041, time_consume(set) =  0.0000029\n",
        "dictionary size = 400001, time_consume(get) =  0.0000041, time_consume(set) =  0.0000041\n",
        "dictionary size = 450001, time_consume(get) =  0.0000050, time_consume(set) =  0.0000041\n",
        "dictionary size = 500001, time_consume(get) =  0.0000029, time_consume(set) =  0.0000021\n",
        "dictionary size = 550001, time_consume(get) =  0.0000050, time_consume(set) =  0.0000041\n",
        "dictionary size = 600001, time_consume(get) =  0.0000050, time_consume(set) =  0.0000041\n",
        "dictionary size = 650001, time_consume(get) =  0.0000038, time_consume(set) =  0.0000031\n",
        "dictionary size = 700001, time_consume(get) =  0.0000041, time_consume(set) =  0.0000041\n",
        "dictionary size = 750001, time_consume(get) =  0.0000041, time_consume(set) =  0.0000050\n",
        "dictionary size = 800001, time_consume(get) =  0.0000041, time_consume(set) =  0.0000050\n",
        "dictionary size = 850001, time_consume(get) =  0.0000038, time_consume(set) =  0.0000041\n",
        "dictionary size = 900001, time_consume(get) =  0.0000038, time_consume(set) =  0.0000029\n",
        "dictionary size = 950001, time_consume(get) =  0.0000041, time_consume(set) =  0.0000038\n"
       ]
      }
     ],
     "prompt_number": 17
    },
    {
     "cell_type": "code",
     "collapsed": false,
     "input": [
      "for i in range(1, 10000001, 500000):\n",
      "    lst = list(range(i))\n",
      "    dics = { val: random.randrange(i) for val in range(i) }\n",
      "    test_key = random.randrange(i)\n",
      "    \n",
      "    list_start = time.time()\n",
      "    del lst[test_key]\n",
      "    list_end = time.time()\n",
      "    \n",
      "    dic_start = time.time()\n",
      "    del dics[test_key]\n",
      "    dic_end = time.time()\n",
      "    \n",
      "    print('dictionary size = %d, time_consume(list) = %10.7f, time_consume(dictionary) = %10.7f' % \n",
      "          (i, list_end - list_start, dic_end - dic_start))"
     ],
     "language": "python",
     "metadata": {},
     "outputs": [
      {
       "output_type": "stream",
       "stream": "stdout",
       "text": [
        "dictionary size = 1, time_consume(list) =  0.0000031, time_consume(dictionary) =  0.0000021\n",
        "dictionary size = 500001, time_consume(list) =  0.0002742, time_consume(dictionary) =  0.0000019\n",
        "dictionary size = 1000001, time_consume(list) =  0.0002401, time_consume(dictionary) =  0.0000019\n",
        "dictionary size = 1500001, time_consume(list) =  0.0010331, time_consume(dictionary) =  0.0000041\n",
        "dictionary size = 2000001, time_consume(list) =  0.0005701, time_consume(dictionary) =  0.0000029\n",
        "dictionary size = 2500001, time_consume(list) =  0.0005751, time_consume(dictionary) =  0.0000029\n",
        "dictionary size = 3000001, time_consume(list) =  0.0032589, time_consume(dictionary) =  0.0000041\n",
        "dictionary size = 3500001, time_consume(list) =  0.0000730, time_consume(dictionary) =  0.0000050\n",
        "dictionary size = 4000001, time_consume(list) =  0.0003669, time_consume(dictionary) =  0.0000029\n",
        "dictionary size = 4500001, time_consume(list) =  0.0038321, time_consume(dictionary) =  0.0000041\n",
        "dictionary size = 5000001, time_consume(list) =  0.0033250, time_consume(dictionary) =  0.0000029\n",
        "dictionary size = 5500001, time_consume(list) =  0.0027149, time_consume(dictionary) =  0.0000050\n",
        "dictionary size = 6000001, time_consume(list) =  0.0068069, time_consume(dictionary) =  0.0000091\n",
        "dictionary size = 6500001, time_consume(list) =  0.0024521, time_consume(dictionary) =  0.0000041\n",
        "dictionary size = 7000001, time_consume(list) =  0.0002561, time_consume(dictionary) =  0.0000031\n",
        "dictionary size = 7500001, time_consume(list) =  0.0078042, time_consume(dictionary) =  0.0000050\n",
        "dictionary size = 8000001, time_consume(list) =  0.0019391, time_consume(dictionary) =  0.0000041"
       ]
      }
     ]
    },
    {
     "cell_type": "code",
     "collapsed": false,
     "input": [],
     "language": "python",
     "metadata": {},
     "outputs": []
    }
   ],
   "metadata": {}
  }
 ]
}