{
 "metadata": {
  "kernelspec": {
   "codemirror_mode": {
    "name": "ipython",
    "version": 3
   },
   "display_name": "IPython (Python 3)",
   "language": "python",
   "name": "python3"
  },
  "name": "",
  "signature": "sha256:217425bce3bc2d1a741266275e26952f0aed7615498b245a409d7b94ebb3fc66"
 },
 "nbformat": 3,
 "nbformat_minor": 0,
 "worksheets": [
  {
   "cells": [
    {
     "cell_type": "heading",
     "level": 1,
     "metadata": {},
     "source": [
      "Solution 1: Checking Off"
     ]
    },
    {
     "cell_type": "code",
     "collapsed": false,
     "input": [
      "# O(n^2)\n",
      "def anagramSolution1(s1,s2):\n",
      "    alist = list(s2)\n",
      "    \n",
      "    pos1 = 0\n",
      "    stillOK = True\n",
      "    \n",
      "    while pos1 < len(s1) and stillOK:\n",
      "        pos2 = 0\n",
      "        found = False\n",
      "        while pos2 < len(alist) and not found:\n",
      "            if s1[pos1] == alist[pos2]:\n",
      "                found = True\n",
      "            else:\n",
      "                pos2 = pos2 + 1\n",
      "                \n",
      "        if found:\n",
      "            alist[pos2] = None\n",
      "        else:\n",
      "            stillOK = False\n",
      "            \n",
      "        pos1 = pos1 + 1\n",
      "        \n",
      "    return stillOK\n",
      "\n",
      "print(anagramSolution1('abcd','dcba'))"
     ],
     "language": "python",
     "metadata": {},
     "outputs": [
      {
       "output_type": "stream",
       "stream": "stdout",
       "text": [
        "True\n"
       ]
      }
     ],
     "prompt_number": 1
    },
    {
     "cell_type": "heading",
     "level": 1,
     "metadata": {},
     "source": [
      "Solution 2: Sort and Compare"
     ]
    },
    {
     "cell_type": "code",
     "collapsed": false,
     "input": [
      "# O(n)\n",
      "def anagramSolution2(s1,s2):\n",
      "    alist1 = list(s1)\n",
      "    alist2 = list(s2)\n",
      "    \n",
      "    alist1.sort()\n",
      "    alist2.sort()\n",
      "    \n",
      "    pos = 0\n",
      "    matches = True\n",
      "    \n",
      "    while pos < len(s1) and matches:\n",
      "        if alist1[pos] == alist2[pos]:\n",
      "            pos = pos + 1\n",
      "        else:\n",
      "            matches = False\n",
      "            \n",
      "    return matches\n",
      "\n",
      "print(anagramSolution2('abcde','edcba'))"
     ],
     "language": "python",
     "metadata": {},
     "outputs": [
      {
       "output_type": "stream",
       "stream": "stdout",
       "text": [
        "True\n"
       ]
      }
     ],
     "prompt_number": 4
    },
    {
     "cell_type": "markdown",
     "metadata": {},
     "source": [
      "Solution 3: Brute Force\n",
      "=======================\n",
      "\n",
      "\u66b4\u529b\u6cd5........\u6642\u9593\u8907\u96dc\u5ea6\u662f `n!`....\u5225\u8003\u616e\u9019\u500b\u4e86..."
     ]
    },
    {
     "cell_type": "heading",
     "level": 1,
     "metadata": {},
     "source": [
      "Solution 4: Count and Compare"
     ]
    },
    {
     "cell_type": "code",
     "collapsed": false,
     "input": [
      "# O(n)\n",
      "def anagramSolution4(s1,s2):\n",
      "    c1 = [0] * 26\n",
      "    c2 = [0] * 26\n",
      "    \n",
      "    for i in range(len(s2)):\n",
      "        pos = ord(s1[i]) - ord('a')\n",
      "        c1[pos] = c1[pos] + 1\n",
      "        \n",
      "    for i in range(len(s2)):\n",
      "        pos = ord(s2[i]) - ord('a')\n",
      "        c2[pos] = c2[pos] + 1\n",
      "        \n",
      "    j = 0\n",
      "    stillOK = True\n",
      "    while j < 26 and stillOK:\n",
      "        if c1[j] == c2[j]:\n",
      "            j = j + 1\n",
      "        else:\n",
      "            stillOK = False\n",
      "            \n",
      "    return stillOK\n",
      "\n",
      "print(anagramSolution4('apple','pleap'))"
     ],
     "language": "python",
     "metadata": {},
     "outputs": [
      {
       "output_type": "stream",
       "stream": "stdout",
       "text": [
        "True\n"
       ]
      }
     ],
     "prompt_number": 7
    },
    {
     "cell_type": "code",
     "collapsed": false,
     "input": [],
     "language": "python",
     "metadata": {},
     "outputs": []
    }
   ],
   "metadata": {}
  }
 ]
}