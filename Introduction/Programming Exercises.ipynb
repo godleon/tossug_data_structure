{
 "worksheets": [
  {
   "cells": [
    {
     "cell_type": "code",
     "metadata": {},
     "outputs": [
      {
       "output_type": "stream",
       "stream": "stdout",
       "text": [
        "5\n"
       ]
      }
     ],
     "input": [
      "def gcd(m, n):\n",
      "    while m % n != 0:\n",
      "        oldm = m\n",
      "        oldn = n\n",
      "\n",
      "        m = oldn\n",
      "        n = oldm % oldn\n",
      "    return n\n",
      "\n",
      "print(gcd(35, 25))"
     ],
     "language": "python",
     "prompt_number": 6
    },
    {
     "cell_type": "code",
     "metadata": {},
     "outputs": [],
     "input": [
      "import math\n",
      "\n",
      "class Fraction:\n",
      "    def __init__(self, top, bottom):\n",
      "        # Ex5\n",
      "        if(not(type(top) == int and type(bottom) == int)):\n",
      "            raise RuntimeError('numerator and denominator should be integer.')\n",
      "        \n",
      "        # Ex6\n",
      "        if bottom < 0:\n",
      "            bottom = bottom * -1\n",
      "            top = top * -1\n",
      "        \n",
      "        common = gcd(top, bottom)\n",
      "        self.num = top // common\n",
      "        self.den = bottom // common\n",
      "        \n",
      "    def __str__(self):\n",
      "        return str(self.num) + \"/\" + str(self.den)\n",
      "\n",
      "    def __add__(self, otherfraction):\n",
      "        newnum = self.num * otherfraction.den + self.den * otherfraction.num\n",
      "        newden = self.den * otherfraction.den\n",
      "        return Fraction(newnum, newden)\n",
      "    \n",
      "    def __eq__(self, other):\n",
      "        firstnum = self.num * other.den\n",
      "        secondnum = other.num * self.den\n",
      "        return firstnum == secondnum\n",
      "        \n",
      "    # Ex3\n",
      "    def __mul__(self, other):\n",
      "        new_num = self.num * other.num\n",
      "        new_den = self.den * other.den\n",
      "        return Fraction(new_num, new_den)\n",
      "        \n",
      "    # Ex3\n",
      "    def __truediv__(self, other):\n",
      "        new_num = self.num * other.den\n",
      "        new_den = self.den * other.num\n",
      "        return Fraction(new_num, new_den)\n",
      "    \n",
      "    # Ex3\n",
      "    def __sub__(self, other):\n",
      "        new_num = self.num * other.den - self.den * other.num\n",
      "        new_den = self.den * other.den\n",
      "        return Fraction(new_num, new_den)\n",
      "    \n",
      "    # Ex4\n",
      "    def __gt__(self, other):\n",
      "        return (self.num * other.den) > (self.den * other.num)\n",
      "    \n",
      "    # Ex4\n",
      "    def __ge__(self, other):\n",
      "        return (self.num * other.den) >= (self.den * other.num)\n",
      "    \n",
      "    # Ex4\n",
      "    def __lt__(self, other):\n",
      "        return (self.num * other.den) < (self.den * other.num)\n",
      "    \n",
      "    # Ex4\n",
      "    def __le__(self, other):\n",
      "        return (self.num * other.den) <= (self.den * other.num)\n",
      "    \n",
      "    # Ex4\n",
      "    def __ne__(self, other):\n",
      "        return (self.num * other.den) != (self.den * other.num)\n",
      "    \n",
      "    def show(self):\n",
      "        print(self.num, '/', self.den)\n",
      "        \n",
      "    # Ex1\n",
      "    def getNum(self):\n",
      "        return self.num\n",
      "    \n",
      "    # Ex1\n",
      "    def getDen(self):\n",
      "        return self.den"
     ],
     "language": "python",
     "prompt_number": 15
    },
    {
     "cell_type": "code",
     "metadata": {},
     "outputs": [
      {
       "output_type": "stream",
       "stream": "stdout",
       "text": [
        "29/28\n",
        "13/28\n",
        "3/14\n",
        "21/8\n",
        "-1/3\n"
       ]
      }
     ],
     "input": [
      "f1 = Fraction(3, 4)\n",
      "f2 = Fraction(2, 7)\n",
      "f3 = f1 + f2\n",
      "print(f3)\n",
      "f4 = f1 - f2\n",
      "print(f4)\n",
      "f5 = f1 * f2\n",
      "print(f5)\n",
      "f6 = f1 / f2\n",
      "print(f6)\n",
      "\n",
      "f7 = Fraction(1, -3)\n",
      "print(f7)"
     ],
     "language": "python",
     "prompt_number": 14
    },
    {
     "cell_type": "code",
     "metadata": {},
     "outputs": [],
     "input": [
      ""
     ],
     "language": "python"
    }
   ]
  }
 ],
 "cells": [],
 "metadata": {
  "name": "",
  "signature": "sha256:1996ff81a33804f36c5685ab588302c2a73677cbf83ebf2e76ff55d816eb2673"
 },
 "nbformat": 3,
 "nbformat_minor": 0
}