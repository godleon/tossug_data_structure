{
 "metadata": {
  "name": "",
  "signature": "sha256:92bd15ff77f37019b9d1ca6ca2d3cc31b9b187152ac8b97d4af2dee315be127b"
 },
 "nbformat": 3,
 "nbformat_minor": 0,
 "worksheets": [
  {
   "cells": [
    {
     "cell_type": "code",
     "collapsed": false,
     "input": [
      "def gcd(m, n):\n",
      "    while m % n != 0:\n",
      "        oldm = m\n",
      "        oldn = n\n",
      "\n",
      "        m = oldn\n",
      "        n = oldm % oldn\n",
      "    return n\n",
      "\n",
      "print(gcd(35, 25))"
     ],
     "language": "python",
     "metadata": {},
     "outputs": [
      {
       "output_type": "stream",
       "stream": "stdout",
       "text": [
        "5\n"
       ]
      }
     ],
     "prompt_number": 1
    },
    {
     "cell_type": "code",
     "collapsed": false,
     "input": [
      "class Fraction:\n",
      "    def __init__(self, top, bottom):\n",
      "        print(type(top) == type(int))\n",
      "        print(type(bottom) == type(int))\n",
      "        common = gcd(top, bottom)\n",
      "        self.num = top // common\n",
      "        self.den = bottom // common\n",
      "        \n",
      "    def __str__(self):\n",
      "        return str(self.num) + \"/\" + str(self.den)\n",
      "\n",
      "    def __add__(self, otherfraction):\n",
      "        newnum = self.num * otherfraction.den + self.den * otherfraction.num\n",
      "        newden = self.den * otherfraction.den\n",
      "        return Fraction(newnum, newden)\n",
      "    \n",
      "    def __eq__(self, other):\n",
      "        firstnum = self.num * other.den\n",
      "        secondnum = other.num * self.den\n",
      "        return firstnum == secondnum\n",
      "        \n",
      "    def __mul__(self, other):\n",
      "        new_num = self.num * other.num\n",
      "        new_den = self.den * other.den\n",
      "        return Fraction(new_num, new_den)\n",
      "        \n",
      "    def __truediv__(self, other):\n",
      "        new_num = self.num * other.den\n",
      "        new_den = self.den * other.num\n",
      "        return Fraction(new_num, new_den)\n",
      "    \n",
      "    def __sub__(self, other):\n",
      "        new_num = self.num * other.den - self.den * other.num\n",
      "        new_den = self.den * other.den\n",
      "        return Fraction(new_num, new_den)\n",
      "    \n",
      "    def __gt__(self, other):\n",
      "        return (self.num * other.den) > (self.den * other.num)\n",
      "    \n",
      "    def __ge__(self, other):\n",
      "        return (self.num * other.den) >= (self.den * other.num)\n",
      "    \n",
      "    def __lt__(self, other):\n",
      "        return (self.num * other.den) < (self.den * other.num)\n",
      "    \n",
      "    def __le__(self, other):\n",
      "        return (self.num * other.den) <= (self.den * other.num)\n",
      "    \n",
      "    def __ne__(self, other):\n",
      "        return (self.num * other.den) != (self.den * other.num)\n",
      "    \n",
      "    def show(self):\n",
      "        print(self.num, '/', self.den)\n",
      "        \n",
      "    def getNum(self):\n",
      "        return self.num\n",
      "    \n",
      "    def getDen(self):\n",
      "        return self.den"
     ],
     "language": "python",
     "metadata": {},
     "outputs": [],
     "prompt_number": 11
    },
    {
     "cell_type": "code",
     "collapsed": false,
     "input": [
      "f1 = Fraction(3, 4)\n",
      "f2 = Fraction(2, 7)\n",
      "f3 = f1 + f2\n",
      "print(f3)\n",
      "f4 = f1 - f2\n",
      "print(f4)\n",
      "f5 = f1 * f2\n",
      "print(f5)\n",
      "f6 = f1 / f2\n",
      "print(f6)"
     ],
     "language": "python",
     "metadata": {},
     "outputs": [
      {
       "output_type": "stream",
       "stream": "stdout",
       "text": [
        "29/28\n",
        "13/28\n",
        "3/14\n",
        "21/8\n"
       ]
      }
     ],
     "prompt_number": 9
    },
    {
     "cell_type": "code",
     "collapsed": false,
     "input": [],
     "language": "python",
     "metadata": {},
     "outputs": []
    }
   ],
   "metadata": {}
  }
 ]
}