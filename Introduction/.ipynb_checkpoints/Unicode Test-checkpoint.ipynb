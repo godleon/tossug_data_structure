{
 "metadata": {
  "name": "",
  "signature": "sha256:c228852f70d163ec13b1c20d439d313a907e71b0ff83ce1a3d27b4bca38b2780"
 },
 "nbformat": 3,
 "nbformat_minor": 0,
 "worksheets": [
  {
   "cells": [
    {
     "cell_type": "code",
     "collapsed": false,
     "input": [
      "# \u4e2d\u6587\u5b57\u6e2c\u8a66"
     ],
     "language": "python",
     "metadata": {},
     "outputs": [],
     "prompt_number": 1
    },
    {
     "cell_type": "code",
     "collapsed": false,
     "input": [],
     "language": "python",
     "metadata": {},
     "outputs": []
    }
   ],
   "metadata": {}
  }
 ]
}