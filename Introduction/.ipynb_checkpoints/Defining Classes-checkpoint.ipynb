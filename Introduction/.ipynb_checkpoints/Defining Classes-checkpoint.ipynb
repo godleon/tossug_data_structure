{
 "metadata": {
  "signature": "sha256:780aae829cb1fb2e8a3206efb759decbb3dfd5e5e96dd52119b73f01f35032b1"
 },
 "nbformat": 3,
 "nbformat_minor": 0,
 "worksheets": [
  {
   "cells": [
    {
     "cell_type": "code",
     "collapsed": false,
     "input": [
      "def gcd(m, n):\n",
      "    while m % n != 0:\n",
      "        oldm = m\n",
      "        oldn = n\n",
      "\n",
      "        m = oldn\n",
      "        n = oldm % oldn\n",
      "    return n\n",
      "\n",
      "print(gcd(20, 10))"
     ],
     "language": "python",
     "metadata": {},
     "outputs": [
      {
       "output_type": "stream",
       "stream": "stdout",
       "text": [
        "10\n"
       ]
      }
     ],
     "prompt_number": 34
    },
    {
     "cell_type": "code",
     "collapsed": false,
     "input": [
      "class Fraction:\n",
      "    def __init__(self, top, bottom):\n",
      "        self.num = top\n",
      "        self.den = bottom\n",
      "        \n",
      "    def __str__(self):\n",
      "        return str(self.num) + \"/\" + str(self.den)\n",
      "\n",
      "    def __add__(self, otherfraction):\n",
      "        newnum = self.num * otherfraction.den + self.den * otherfraction.num\n",
      "        newden = self.den * otherfraction.den\n",
      "        common = gcd(newnum, newden)\n",
      "        return Fraction(newnum // common, newden // common)\n",
      "    \n",
      "    def __eq__(self, other):\n",
      "        firstnum = self.num * other.den\n",
      "        secondnum = other.num * self.den\n",
      "        return firstnum == secondnum\n",
      "        \n",
      "    def __mul__(self, other):\n",
      "        new_num = self.num * other.num\n",
      "        new_den = self.den * other.den\n",
      "        common = gcd(new_num, new_den)\n",
      "        return Fraction(new_num // common, new_den // common)\n",
      "        \n",
      "    def __truediv__(self, other):\n",
      "        new_num = self.num * other.den\n",
      "        new_den = self.den * other.num\n",
      "        common = gcd(new_num, new_den)\n",
      "        return Fraction(new_num // common, new_den // common)\n",
      "    \n",
      "    def __sub__(self, other):\n",
      "        new_num = self.num * other.den - self.den * other.num\n",
      "        new_den = self.den * other.den\n",
      "        common = gcd(new_num, new_den)\n",
      "        return Fraction(new_num // common, new_den // common)\n",
      "    \n",
      "    def __gt__(self, other):\n",
      "        return (self.num * other.den) > (self.den * other.num)\n",
      "    \n",
      "    def __lt__(self, other):\n",
      "        return (self.num * other.den) < (self.den * other.num)\n",
      "    \n",
      "    def show(self):\n",
      "        print(self.num, '/', self.den)"
     ],
     "language": "python",
     "metadata": {},
     "outputs": [],
     "prompt_number": 54
    },
    {
     "cell_type": "code",
     "collapsed": false,
     "input": [
      "f1 = Fraction(3, 5)\n",
      "f2 = Fraction(1, 2)\n",
      "f3 = f1 + f2 + f1 + f2\n",
      "print(f3)"
     ],
     "language": "python",
     "metadata": {},
     "outputs": [
      {
       "output_type": "stream",
       "stream": "stdout",
       "text": [
        "11/5\n",
        "3/10\n"
       ]
      }
     ],
     "prompt_number": 41
    },
    {
     "cell_type": "code",
     "collapsed": false,
     "input": [
      "x = Fraction(1, 2)\n",
      "y = Fraction(2, 3)\n",
      "print(x + y)\n",
      "print(x == y)"
     ],
     "language": "python",
     "metadata": {},
     "outputs": [
      {
       "output_type": "stream",
       "stream": "stdout",
       "text": [
        "7/6\n",
        "False\n"
       ]
      }
     ],
     "prompt_number": 37
    },
    {
     "cell_type": "code",
     "collapsed": false,
     "input": [
      "f1 = Fraction(1, 7)\n",
      "f2 = Fraction(3, 4)\n",
      "print(f1 + f2)\n",
      "print(f1 - f2)\n",
      "print(f1 * f2)\n",
      "print(f1 / f2)\n",
      "print(f1 > f2)\n",
      "print(f1 < f2)"
     ],
     "language": "python",
     "metadata": {},
     "outputs": [
      {
       "output_type": "stream",
       "stream": "stdout",
       "text": [
        "25/28\n",
        "-17/28\n",
        "3/28\n",
        "4/21\n",
        "False\n",
        "True\n"
       ]
      }
     ],
     "prompt_number": 55
    },
    {
     "cell_type": "code",
     "collapsed": false,
     "input": [],
     "language": "python",
     "metadata": {},
     "outputs": []
    }
   ],
   "metadata": {}
  }
 ]
}