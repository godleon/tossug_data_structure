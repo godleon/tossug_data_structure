{
 "metadata": {
  "kernelspec": {
   "codemirror_mode": {
    "name": "ipython",
    "version": 3
   },
   "display_name": "IPython (Python 3)",
   "language": "python",
   "name": "python3"
  },
  "name": "",
  "signature": "sha256:c63fb8f90edff235a0d2803eb565ea49b40a7e0ae43ae01a16b24e07bbf00c36"
 },
 "nbformat": 3,
 "nbformat_minor": 0,
 "worksheets": [
  {
   "cells": [
    {
     "cell_type": "markdown",
     "metadata": {},
     "source": [
      "\u5be6\u4f5c LogicGate\n",
      "==============\n",
      "\n",
      "![An Inheritance Hierarchy for Logic Gates](http://interactivepython.org/runestone/static/pythonds/_images/gates.png)\n",
      "\n",
      "Logic Gate \u7684\u5171\u540c\u5c6c\u6027\uff1a\n",
      "\n",
      "1. Identifier (Label)\n",
      "\n",
      "2. Output"
     ]
    },
    {
     "cell_type": "code",
     "collapsed": false,
     "input": [
      "class LogicGate:\n",
      "\n",
      "    def __init__(self,n):\n",
      "        self.label = n\n",
      "        self.output = None\n",
      "\n",
      "    def getLabel(self):\n",
      "        return self.label\n",
      "\n",
      "    def getOutput(self):\n",
      "        self.output = self.performGateLogic()\n",
      "        return self.output"
     ],
     "language": "python",
     "metadata": {},
     "outputs": [],
     "prompt_number": 1
    },
    {
     "cell_type": "markdown",
     "metadata": {},
     "source": [
      "\u5be6\u4f5c BinaryGate\n",
      "==============="
     ]
    },
    {
     "cell_type": "code",
     "collapsed": false,
     "input": [
      "class BinaryGate(LogicGate):\n",
      "\n",
      "    def __init__(self,n):\n",
      "        LogicGate.__init__(self,n)\n",
      "\n",
      "        self.pinA = None\n",
      "        self.pinB = None\n",
      "\n",
      "    def getPinA(self):\n",
      "        return int(input(\"Enter Pin A input for gate \"+ self.getLabel()+\"--> \"))\n",
      "    \n",
      "\n",
      "    def getPinB(self):\n",
      "        return int(input(\"Enter Pin B input for gate \"+ self.getLabel()+\"--> \"))"
     ],
     "language": "python",
     "metadata": {},
     "outputs": [],
     "prompt_number": 2
    },
    {
     "cell_type": "markdown",
     "metadata": {},
     "source": [
      "\u5be6\u4f5c UnaryGate\n",
      "=============="
     ]
    },
    {
     "cell_type": "code",
     "collapsed": false,
     "input": [
      "class UnaryGate(LogicGate):\n",
      "\n",
      "    def __init__(self,n):\n",
      "        LogicGate.__init__(self,n)\n",
      "\n",
      "        self.pin = None\n",
      "\n",
      "    def getPin(self):\n",
      "        return int(input(\"Enter Pin input for gate \"+ self.getLabel()+\"--> \"))"
     ],
     "language": "python",
     "metadata": {},
     "outputs": [],
     "prompt_number": 3
    },
    {
     "cell_type": "markdown",
     "metadata": {},
     "source": [
      "\u5be6\u4f5c AndGate\n",
      "============\n",
      "\n",
      "![And Gate](http://img3.wikia.nocookie.net/__cb20070425105550/electronics/images/thumb/4/46/And.svg/500px-And.svg.png)"
     ]
    },
    {
     "cell_type": "code",
     "collapsed": false,
     "input": [
      "class AndGate(BinaryGate):\n",
      "\n",
      "    def __init__(self,n):\n",
      "        BinaryGate.__init__(self,n)\n",
      "\n",
      "    def performGateLogic(self):\n",
      "        a = self.getPinA()\n",
      "        b = self.getPinB()\n",
      "        if a == 1 and b == 1:\n",
      "            return 1\n",
      "        else:\n",
      "            return 0"
     ],
     "language": "python",
     "metadata": {},
     "outputs": [],
     "prompt_number": 4
    },
    {
     "cell_type": "code",
     "collapsed": false,
     "input": [
      "g1 = AndGate(\"G1\")\n",
      "g1.getOutput()"
     ],
     "language": "python",
     "metadata": {},
     "outputs": [
      {
       "output_type": "stream",
       "stream": "stdout",
       "text": [
        "Enter Pin A input for gate G1--> 1\n",
        "Enter Pin B input for gate G1--> 1\n"
       ]
      },
      {
       "metadata": {},
       "output_type": "pyout",
       "prompt_number": 5,
       "text": [
        "1"
       ]
      }
     ],
     "prompt_number": 5
    },
    {
     "cell_type": "markdown",
     "metadata": {},
     "source": [
      "\u5be6\u4f5c OrGate\n",
      "===========\n",
      "\n",
      "![Or Gate](http://img2.wikia.nocookie.net/__cb20070425110205/electronics/images/thumb/4/4c/Or-gate-en.svg/500px-Or-gate-en.svg.png)"
     ]
    },
    {
     "cell_type": "code",
     "collapsed": false,
     "input": [
      "class OrGate(BinaryGate):\n",
      "\n",
      "    def __init__(self,n):\n",
      "        BinaryGate.__init__(self,n)\n",
      "\n",
      "    def performGateLogic(self):\n",
      "        a = self.getPinA()\n",
      "        b = self.getPinB()\n",
      "        if a == 0 and b == 0:\n",
      "            return 0\n",
      "        else:\n",
      "            return 1"
     ],
     "language": "python",
     "metadata": {},
     "outputs": [],
     "prompt_number": 6
    },
    {
     "cell_type": "code",
     "collapsed": false,
     "input": [
      "g2 = OrGate(\"G2\")\n",
      "g2.getOutput()"
     ],
     "language": "python",
     "metadata": {},
     "outputs": [
      {
       "output_type": "stream",
       "stream": "stdout",
       "text": [
        "Enter Pin A input for gate G2--> 1\n",
        "Enter Pin B input for gate G2--> 1\n"
       ]
      },
      {
       "metadata": {},
       "output_type": "pyout",
       "prompt_number": 7,
       "text": [
        "1"
       ]
      }
     ],
     "prompt_number": 7
    },
    {
     "cell_type": "markdown",
     "metadata": {},
     "source": [
      "\u5be6\u4f5c NotGate\n",
      "============\n",
      "\n",
      "![Not Gate](http://img3.wikia.nocookie.net/__cb20070425110213/electronics/images/thumb/9/9f/Not-gate-en.svg/500px-Not-gate-en.svg.png)"
     ]
    },
    {
     "cell_type": "code",
     "collapsed": false,
     "input": [
      "class NotGate(UnaryGate):\n",
      "    def __init__(self, n):\n",
      "        UnaryGate.__init__(self,n)\n",
      "        \n",
      "    def performGateLogic(self):\n",
      "        p = self.getPin()\n",
      "        return int(not p)"
     ],
     "language": "python",
     "metadata": {},
     "outputs": [],
     "prompt_number": 8
    },
    {
     "cell_type": "code",
     "collapsed": false,
     "input": [
      "g3 = NotGate(\"G3\")\n",
      "g3.getOutput()"
     ],
     "language": "python",
     "metadata": {},
     "outputs": [
      {
       "output_type": "stream",
       "stream": "stdout",
       "text": [
        "Enter Pin input for gate G3--> 1\n"
       ]
      },
      {
       "metadata": {},
       "output_type": "pyout",
       "prompt_number": 9,
       "text": [
        "0"
       ]
      }
     ],
     "prompt_number": 9
    },
    {
     "cell_type": "markdown",
     "metadata": {},
     "source": [
      "\u5982\u4f55\u9023\u63a5 Logic Gates ? \u4f7f\u7528 Connector\n",
      "====================================\n",
      "\n",
      "![A Connector Connects the Output of One Gate to the Input of Another](http://interactivepython.org/runestone/static/pythonds/_images/connector.png)"
     ]
    },
    {
     "cell_type": "code",
     "collapsed": false,
     "input": [
      "class Connector:\n",
      "\n",
      "    def __init__(self, fgate, tgate):\n",
      "        self.fromgate = fgate\n",
      "        self.togate = tgate\n",
      "\n",
      "        #ToGate \u6307\u5b9a pinA or pinB \u7684\u8cc7\u6599\u4f86\u6e90\u70ba connector\n",
      "        tgate.setNextPin(self)\n",
      "\n",
      "    def getFrom(self):\n",
      "        return self.fromgate\n",
      "\n",
      "    def getTo(self):\n",
      "        return self.togate"
     ],
     "language": "python",
     "metadata": {},
     "outputs": [],
     "prompt_number": 10
    },
    {
     "cell_type": "markdown",
     "metadata": {},
     "source": [
      "\u5728 BinaryGate\u3001UnaryGate \u88dc\u4e0a Connector \u7684\u5be6\u4f5c\n",
      "================================================\n",
      "\n",
      "![Circuit](http://interactivepython.org/runestone/static/pythonds/_images/circuit1.png)\n",
      "\n",
      "> <font color='red'>Logic Gates \u4e4b\u9593\u53ea\u80fd\u7531 connector \u4f86\u9023\u63a5</font>"
     ]
    },
    {
     "cell_type": "code",
     "collapsed": false,
     "input": [
      "class BinaryGate(LogicGate):\n",
      "    \n",
      "    def __init__(self, n):\n",
      "        LogicGate.__init__(self,n)\n",
      "        self.pinA = None\n",
      "        self.pinB = None\n",
      "        \n",
      "    #\u8a2d\u5b9a connector \u6642\uff0c\u6703\u76f4\u63a5\u6307\u5230 pinA or pinB\n",
      "    def setNextPin(self, conn):\n",
      "        if self.pinA == None:\n",
      "            self.pinA = conn\n",
      "        else:\n",
      "            if self.pinB == None:\n",
      "                self.pinB = conn\n",
      "            else:\n",
      "                print(\"Cannot Connect: NO EMPTY PINS on this gate\")\n",
      "        \n",
      "    def getPinA(self):\n",
      "        if self.pinA == None:\n",
      "            return int(input(\"Enter Pin A input for gate \" + self.getLabel() + \"--> \"))\n",
      "        else:\n",
      "            #\u900f\u904e connector\uff0c\u627e\u5230 fromGate\uff0c\u518d\u53d6\u5f97 fromGate \u7684 output \u503c\n",
      "            return self.pinA.getFrom().getOutput()\n",
      "    \n",
      "    def getPinB(self):\n",
      "        if self.pinB == None:\n",
      "            return int(input(\"Enter Pin B input for gate \" + self.getLabel() + \"--> \"))\n",
      "        else:\n",
      "            #\u900f\u904e connector\uff0c\u627e\u5230 fromGate\uff0c\u518d\u53d6\u5f97 fromGate \u7684 output \u503c\n",
      "            return self.pinB.getFrom().getOutput()"
     ],
     "language": "python",
     "metadata": {},
     "outputs": [],
     "prompt_number": 11
    },
    {
     "cell_type": "code",
     "collapsed": false,
     "input": [
      "class UnaryGate(LogicGate):\n",
      "    \n",
      "    def __init__(self, n):\n",
      "        LogicGate.__init__(self,n)\n",
      "        \n",
      "        self.pin = None\n",
      "        \n",
      "    def getPin(self):\n",
      "        if self.pin == None:\n",
      "            return int(input(\"Enter Pin input for gate \"+ self.getLabel()+\"--> \"))\n",
      "        else:\n",
      "            return self.pin.getFrom().getOutput()\n",
      "        \n",
      "    def setNextPin(self, conn):\n",
      "        if self.pin == None:\n",
      "            self.pin = conn\n",
      "        else:\n",
      "            print(\"Cannot Connect: NO EMPTY PINS on this gate\")"
     ],
     "language": "python",
     "metadata": {},
     "outputs": [],
     "prompt_number": 12
    },
    {
     "cell_type": "markdown",
     "metadata": {},
     "source": [
      "\u76f8\u540c\u7684 AndGate\u3001OrGate\u3001NotGate\n",
      "=============================="
     ]
    },
    {
     "cell_type": "code",
     "collapsed": false,
     "input": [
      "class AndGate(BinaryGate):\n",
      "\n",
      "    def __init__(self,n):\n",
      "        BinaryGate.__init__(self,n)\n",
      "\n",
      "    def performGateLogic(self):\n",
      "        a = self.getPinA()\n",
      "        b = self.getPinB()\n",
      "        if a == 1 and b == 1:\n",
      "            return 1\n",
      "        else:\n",
      "            return 0\n",
      "        \n",
      "\n",
      "class OrGate(BinaryGate):\n",
      "\n",
      "    def __init__(self,n):\n",
      "        BinaryGate.__init__(self,n)\n",
      "\n",
      "    def performGateLogic(self):\n",
      "        a = self.getPinA()\n",
      "        b = self.getPinB()\n",
      "        if a == 0 and b == 0:\n",
      "            return 0\n",
      "        else:\n",
      "            return 1\n",
      "        \n",
      "\n",
      "class NotGate(UnaryGate):\n",
      "    def __init__(self, n):\n",
      "        UnaryGate.__init__(self,n)\n",
      "\n",
      "    def performGateLogic(self):\n",
      "        p = self.getPin()\n",
      "        return int(not p)"
     ],
     "language": "python",
     "metadata": {},
     "outputs": [],
     "prompt_number": 13
    },
    {
     "cell_type": "heading",
     "level": 1,
     "metadata": {},
     "source": [
      "Self Check"
     ]
    },
    {
     "cell_type": "markdown",
     "metadata": {},
     "source": [
      "## \u5be6\u4f5c NAND\n",
      "\n",
      "![NAND](http://1.bp.blogspot.com/_-VwjFK-ofUU/S78NOzSA7dI/AAAAAAAAA_8/r_WooeVE9W8/s1600/nand.png)"
     ]
    },
    {
     "cell_type": "code",
     "collapsed": false,
     "input": [
      "g1 = AndGate(\"G_And\")\n",
      "g2 = NotGate(\"G_Not\")\n",
      "c1 = Connector(g1, g2)\n",
      "g2.getOutput()"
     ],
     "language": "python",
     "metadata": {},
     "outputs": [
      {
       "output_type": "stream",
       "stream": "stdout",
       "text": [
        "Enter Pin A input for gate G_And--> 1\n",
        "Enter Pin B input for gate G_And--> 0\n"
       ]
      },
      {
       "metadata": {},
       "output_type": "pyout",
       "prompt_number": 17,
       "text": [
        "1"
       ]
      }
     ],
     "prompt_number": 17
    },
    {
     "cell_type": "markdown",
     "metadata": {},
     "source": [
      "## \u5be6\u4f5c NOR\n",
      "\n",
      "![NOR Gate](http://zeta.albion.edu/~dreimann/Spring2012/courses/cs354/projects/otg/or_circuit.png)\n",
      "\n",
      "![NOR Gate](http://www.web-books.com/eLibrary/Engineering/Circuits/Digital/04129.png)"
     ]
    },
    {
     "cell_type": "code",
     "collapsed": false,
     "input": [
      "g1 = OrGate(\"G_Or\")\n",
      "g2 = NotGate(\"G_Not\")\n",
      "c1 = Connector(g1, g2)\n",
      "g2.getOutput()"
     ],
     "language": "python",
     "metadata": {},
     "outputs": [
      {
       "output_type": "stream",
       "stream": "stdout",
       "text": [
        "Enter Pin A input for gate G_Or--> 1\n",
        "Enter Pin B input for gate G_Or--> 1\n"
       ]
      },
      {
       "metadata": {},
       "output_type": "pyout",
       "prompt_number": 20,
       "text": [
        "0"
       ]
      }
     ],
     "prompt_number": 20
    },
    {
     "cell_type": "markdown",
     "metadata": {},
     "source": [
      "## NOT (( A and B) or (C and D))"
     ]
    },
    {
     "cell_type": "code",
     "collapsed": false,
     "input": [
      "g1 = AndGate(\"Gate_A_and_B\")\n",
      "g2 = AndGate(\"Gate_C_and_D\")\n",
      "g3 = OrGate(\"Gate_AB_or_CD\")\n",
      "g4 = NotGate(\"Gate_not_g3\")\n",
      "c1 = Connector(g1, g3)\n",
      "c2 = Connector(g2, g3)\n",
      "c4 = Connector(g3, g4)\n",
      "g4.getOutput()"
     ],
     "language": "python",
     "metadata": {},
     "outputs": [
      {
       "output_type": "stream",
       "stream": "stdout",
       "text": [
        "Enter Pin A input for gate Gate_A_and_B--> 1\n",
        "Enter Pin B input for gate Gate_A_and_B--> 1\n",
        "Enter Pin A input for gate Gate_C_and_D--> 0\n",
        "Enter Pin B input for gate Gate_C_and_D--> 0\n"
       ]
      },
      {
       "metadata": {},
       "output_type": "pyout",
       "prompt_number": 21,
       "text": [
        "0"
       ]
      }
     ],
     "prompt_number": 21
    },
    {
     "cell_type": "markdown",
     "metadata": {},
     "source": [
      "## NOT( A and B ) and NOT (C and D)"
     ]
    },
    {
     "cell_type": "code",
     "collapsed": false,
     "input": [
      "g1 = AndGate(\"Gate_A_and_B\")\n",
      "g2 = NotGate(\"Gate_not_g1\")\n",
      "c1 = Connector(g1, g2)\n",
      "\n",
      "g3 = AndGate(\"Gate_C_and_D\")\n",
      "g4 = NotGate(\"Gate_not_g3\")\n",
      "c2 = Connector(g3, g4)\n",
      "\n",
      "g5 = AndGate(\"Gate_g2_and_g4\")\n",
      "c3 = Connector(g2, g5)\n",
      "c4 = Connector(g4, g5)\n",
      "g5.getOutput()"
     ],
     "language": "python",
     "metadata": {},
     "outputs": [
      {
       "output_type": "stream",
       "stream": "stdout",
       "text": [
        "Enter Pin A input for gate Gate_A_and_B--> 1\n",
        "Enter Pin B input for gate Gate_A_and_B--> 1\n",
        "Enter Pin A input for gate Gate_C_and_D--> 0\n",
        "Enter Pin B input for gate Gate_C_and_D--> 0\n"
       ]
      },
      {
       "metadata": {},
       "output_type": "pyout",
       "prompt_number": 22,
       "text": [
        "0"
       ]
      }
     ],
     "prompt_number": 22
    },
    {
     "cell_type": "code",
     "collapsed": false,
     "input": [],
     "language": "python",
     "metadata": {},
     "outputs": []
    }
   ],
   "metadata": {}
  }
 ]
}