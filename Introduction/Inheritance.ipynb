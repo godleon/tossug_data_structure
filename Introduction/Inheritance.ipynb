{
 "metadata": {
  "name": "",
  "signature": "sha256:aee4834531e76f0cdec5a47c358f6c8eba732afccd59682835e6b258a6c85dc1"
 },
 "nbformat": 3,
 "nbformat_minor": 0,
 "worksheets": [
  {
   "cells": [
    {
     "cell_type": "markdown",
     "metadata": {},
     "source": [
      "Object-Oriented Programming in Python: Defining Classes\n",
      "=======================================================\n",
      "\n",
      "\u9019\u7bc7\u4e3b\u984c\u4e3b\u8981\u662f\u900f\u904e\u5be6\u4f5c Logic Gate \u7684\u65b9\u5f0f\u4f86\u4ecb\u7d39 Python Class & inheritance \u7684\u6982\u5ff5\n",
      "\n",
      "![An Inheritance Hierarchy for Logic Gates](http://interactivepython.org/runestone/static/pythonds/_images/gates.png)"
     ]
    },
    {
     "cell_type": "code",
     "collapsed": false,
     "input": [
      "class LogicGate:\n",
      "    \n",
      "    def __init__(self, n):\n",
      "        self.name = n\n",
      "        self.output = None\n",
      "        \n",
      "    def getName(self):\n",
      "        return self.name\n",
      "    \n",
      "    def getOutput(self):\n",
      "        self.output = self.performGateLogic()\n",
      "        return self.output"
     ],
     "language": "python",
     "metadata": {},
     "outputs": [],
     "prompt_number": 50
    },
    {
     "cell_type": "code",
     "collapsed": false,
     "input": [
      "class BinaryGate(LogicGate):\n",
      "    \n",
      "    def __init__(self, n):\n",
      "        LogicGate.__init__(self,n)\n",
      "        self.pinA = None\n",
      "        self.pinB = None\n",
      "        \n",
      "    def getPinA(self):\n",
      "        if self.pinA == None:\n",
      "            return int(input(\"Enter Pin A input for gate \" + self.getName() + \"-->\"))\n",
      "        else:\n",
      "            return self.pinA.getFrom().getOutput()\n",
      "    \n",
      "    def getPinB(self):\n",
      "        if self.pinB == None:\n",
      "            return int(input(\"Enter Pin B input for gate \" + self.getName() + \"-->\"))\n",
      "        else:\n",
      "            return self.pinB.getFrom().getOutput()\n",
      "        \n",
      "    def setNextPin(self, conn):\n",
      "        if self.pinA == None:\n",
      "            self.pinA = conn\n",
      "        else:\n",
      "            if self.pinB == None:\n",
      "                self.pinB = conn\n",
      "            else:\n",
      "                print(\"Cannot Connect: NO EMPTY PINS on this gate\")"
     ],
     "language": "python",
     "metadata": {},
     "outputs": [],
     "prompt_number": 51
    },
    {
     "cell_type": "code",
     "collapsed": false,
     "input": [
      "class UnaryGate(LogicGate):\n",
      "    \n",
      "    def __init__(self, n):\n",
      "        LogicGate.__init__(self,n)\n",
      "        \n",
      "        self.pin = None\n",
      "        \n",
      "    def getPin(self):\n",
      "        if self.pin == None:\n",
      "            return int(input(\"Enter Pin input for gate \"+ self.getName()+\"-->\"))\n",
      "        else:\n",
      "            return self.pin.getFrom().getOutput()\n",
      "        \n",
      "    def setNextPin(self, conn):\n",
      "        if self.pin == None:\n",
      "            self.pin = conn\n",
      "        else:\n",
      "            print(\"Cannot Connect: NO EMPTY PINS on this gate\")"
     ],
     "language": "python",
     "metadata": {},
     "outputs": [],
     "prompt_number": 52
    },
    {
     "cell_type": "code",
     "collapsed": false,
     "input": [
      "class AndGate(BinaryGate):\n",
      "    \n",
      "    def __init__(self, n):\n",
      "        BinaryGate.__init__(self,n)\n",
      "        \n",
      "    def performGateLogic(self):\n",
      "        a = self.getPinA()\n",
      "        b = self.getPinB()\n",
      "        if a == 1 and b == 1:\n",
      "            return 1\n",
      "        else:\n",
      "            return 0"
     ],
     "language": "python",
     "metadata": {},
     "outputs": [],
     "prompt_number": 53
    },
    {
     "cell_type": "code",
     "collapsed": false,
     "input": [
      "class OrGate(BinaryGate):\n",
      "    def __init__(self, n):\n",
      "        BinaryGate.__init__(self,n)\n",
      "        \n",
      "    def performGateLogic(self):\n",
      "        a = self.getPinA()\n",
      "        b = self.getPinB()\n",
      "        if a == 1 or b == 1:\n",
      "            return 1\n",
      "        else:\n",
      "            return 0"
     ],
     "language": "python",
     "metadata": {},
     "outputs": [],
     "prompt_number": 54
    },
    {
     "cell_type": "code",
     "collapsed": false,
     "input": [
      "class NotGate(UnaryGate):\n",
      "    def __init__(self, n):\n",
      "        UnaryGate.__init__(self,n)\n",
      "        \n",
      "    def performGateLogic(self):\n",
      "        p = self.getPin()\n",
      "        return int(not p)"
     ],
     "language": "python",
     "metadata": {},
     "outputs": [],
     "prompt_number": 55
    },
    {
     "cell_type": "code",
     "collapsed": false,
     "input": [
      "g1 = AndGate(\"G1\")\n",
      "g1.getOutput()"
     ],
     "language": "python",
     "metadata": {},
     "outputs": [
      {
       "name": "stdout",
       "output_type": "stream",
       "stream": "stdout",
       "text": [
        "Enter Pin A input for gate G1-->1\n"
       ]
      },
      {
       "name": "stdout",
       "output_type": "stream",
       "stream": "stdout",
       "text": [
        "Enter Pin B input for gate G1-->1\n"
       ]
      },
      {
       "metadata": {},
       "output_type": "pyout",
       "prompt_number": 56,
       "text": [
        "1"
       ]
      }
     ],
     "prompt_number": 56
    },
    {
     "cell_type": "code",
     "collapsed": false,
     "input": [
      "g2 = OrGate(\"G2\")\n",
      "g2.getOutput()"
     ],
     "language": "python",
     "metadata": {},
     "outputs": [
      {
       "name": "stdout",
       "output_type": "stream",
       "stream": "stdout",
       "text": [
        "Enter Pin A input for gate G2-->1\n"
       ]
      },
      {
       "name": "stdout",
       "output_type": "stream",
       "stream": "stdout",
       "text": [
        "Enter Pin B input for gate G2-->1\n"
       ]
      },
      {
       "metadata": {},
       "output_type": "pyout",
       "prompt_number": 57,
       "text": [
        "1"
       ]
      }
     ],
     "prompt_number": 57
    },
    {
     "cell_type": "code",
     "collapsed": false,
     "input": [
      "g3 = NotGate(\"G3\")\n",
      "g3.getOutput()"
     ],
     "language": "python",
     "metadata": {},
     "outputs": [
      {
       "name": "stdout",
       "output_type": "stream",
       "stream": "stdout",
       "text": [
        "Enter Pin input for gate G3-->1\n"
       ]
      },
      {
       "metadata": {},
       "output_type": "pyout",
       "prompt_number": 58,
       "text": [
        "0"
       ]
      }
     ],
     "prompt_number": 58
    },
    {
     "cell_type": "markdown",
     "metadata": {},
     "source": [
      "\u4f7f\u7528 Connector \u4e32\u8d77\u591a\u500b Logic Gate \n",
      "=================================\n",
      "![A Connector Connects the Output of One Gate to the Input of Another](http://interactivepython.org/runestone/static/pythonds/_images/connector.png)"
     ]
    },
    {
     "cell_type": "code",
     "collapsed": false,
     "input": [
      "class Connector:\n",
      "    def __init__(self, fgate, tgate):\n",
      "        self.fromgate = fgate\n",
      "        self.togate = tgate\n",
      "        tgate.setNextPin(self)\n",
      "        \n",
      "    def getFrom(self):\n",
      "        return self.fromgate\n",
      "    \n",
      "    def getTo(self):\n",
      "        return self.togate\n",
      "    "
     ],
     "language": "python",
     "metadata": {},
     "outputs": [],
     "prompt_number": 59
    },
    {
     "cell_type": "markdown",
     "metadata": {},
     "source": [
      "![final result](http://interactivepython.org/runestone/static/pythonds/_images/circuit1.png)"
     ]
    },
    {
     "cell_type": "code",
     "collapsed": false,
     "input": [
      "g1 = AndGate(\"G1\")\n",
      "g2 = AndGate(\"G2\")\n",
      "g3 = OrGate(\"G3\")\n",
      "g4 = NotGate(\"G4\")\n",
      "c1 = Connector(g1, g3)\n",
      "c2 = Connector(g2, g3)\n",
      "c3 = Connector(g3, g4)\n",
      "g4.getOutput()"
     ],
     "language": "python",
     "metadata": {},
     "outputs": [
      {
       "name": "stdout",
       "output_type": "stream",
       "stream": "stdout",
       "text": [
        "Enter Pin A input for gate G1-->1\n"
       ]
      },
      {
       "name": "stdout",
       "output_type": "stream",
       "stream": "stdout",
       "text": [
        "Enter Pin B input for gate G1-->0\n"
       ]
      },
      {
       "name": "stdout",
       "output_type": "stream",
       "stream": "stdout",
       "text": [
        "Enter Pin A input for gate G2-->1\n"
       ]
      },
      {
       "name": "stdout",
       "output_type": "stream",
       "stream": "stdout",
       "text": [
        "Enter Pin B input for gate G2-->0\n"
       ]
      },
      {
       "metadata": {},
       "output_type": "pyout",
       "prompt_number": 62,
       "text": [
        "1"
       ]
      }
     ],
     "prompt_number": 62
    },
    {
     "cell_type": "heading",
     "level": 1,
     "metadata": {},
     "source": [
      "Self Check"
     ]
    },
    {
     "cell_type": "markdown",
     "metadata": {},
     "source": [
      "![Nand Gate](http://upload.wikimedia.org/wikipedia/commons/thumb/4/4e/NOR_from_NAND.svg/280px-NOR_from_NAND.svg.png)"
     ]
    },
    {
     "cell_type": "code",
     "collapsed": false,
     "input": [
      "class NandGate(BinaryGate):\n",
      "    \n",
      "    def __init__(self, n):\n",
      "        BinaryGate.__init__(self,n)\n",
      "        \n",
      "    def performGateLogic(self):\n",
      "        g1 = AndGate(\"NandGate\")\n",
      "        g2 = NotGate(\"NotGate\")\n",
      "        c1 = Connector(g1, g2)\n",
      "        return g2.getOutput()"
     ],
     "language": "python",
     "metadata": {},
     "outputs": [],
     "prompt_number": 73
    },
    {
     "cell_type": "code",
     "collapsed": false,
     "input": [
      "g1 = NandGate(\"G1\")\n",
      "g1.getOutput()"
     ],
     "language": "python",
     "metadata": {},
     "outputs": [
      {
       "name": "stdout",
       "output_type": "stream",
       "stream": "stdout",
       "text": [
        "Enter Pin A input for gate NandGate-->1\n"
       ]
      },
      {
       "name": "stdout",
       "output_type": "stream",
       "stream": "stdout",
       "text": [
        "Enter Pin B input for gate NandGate-->0\n"
       ]
      },
      {
       "metadata": {},
       "output_type": "pyout",
       "prompt_number": 74,
       "text": [
        "1"
       ]
      }
     ],
     "prompt_number": 74
    },
    {
     "cell_type": "markdown",
     "metadata": {},
     "source": [
      "![Nor Gate](http://upload.wikimedia.org/wikipedia/commons/thumb/c/c6/NOR_ANSI_Labelled.svg/120px-NOR_ANSI_Labelled.svg.png)"
     ]
    },
    {
     "cell_type": "code",
     "collapsed": false,
     "input": [
      "class NorGate(BinaryGate):\n",
      "    def __init__(self, n):\n",
      "        BinaryGate.__init__(self,n)\n",
      "        \n",
      "    def performGateLogic(self):\n",
      "        g1 = OrGate(\"NorGate\")\n",
      "        g2 = NotGate(\"NotGate\")\n",
      "        c1 = Connector(g1, g2)\n",
      "        return g2.getOutput()"
     ],
     "language": "python",
     "metadata": {},
     "outputs": [],
     "prompt_number": 75
    },
    {
     "cell_type": "code",
     "collapsed": false,
     "input": [
      "g1 = NorGate(\"G1\")\n",
      "g1.getOutput()"
     ],
     "language": "python",
     "metadata": {},
     "outputs": [
      {
       "name": "stdout",
       "output_type": "stream",
       "stream": "stdout",
       "text": [
        "Enter Pin A input for gate NorGate-->0\n"
       ]
      },
      {
       "name": "stdout",
       "output_type": "stream",
       "stream": "stdout",
       "text": [
        "Enter Pin B input for gate NorGate-->0\n"
       ]
      },
      {
       "metadata": {},
       "output_type": "pyout",
       "prompt_number": 77,
       "text": [
        "1"
       ]
      }
     ],
     "prompt_number": 77
    },
    {
     "cell_type": "markdown",
     "metadata": {},
     "source": [
      "### NOT (( A and B) or (C and D))"
     ]
    },
    {
     "cell_type": "code",
     "collapsed": false,
     "input": [
      "g1 = AndGate(\"Gate_A_and_B\")\n",
      "g2 = AndGate(\"Gate_C_and_D\")\n",
      "g3 = OrGate(\"Gate_AB_or_CD\")\n",
      "g4 = NotGate(\"Gate_not_g3\")\n",
      "c1 = Connector(g1, g3)\n",
      "c2 = Connector(g2, g3)\n",
      "c4 = Connector(g3, g4)\n",
      "g4.getOutput()"
     ],
     "language": "python",
     "metadata": {},
     "outputs": [
      {
       "name": "stdout",
       "output_type": "stream",
       "stream": "stdout",
       "text": [
        "Enter Pin A input for gate Gate_A_and_B-->1\n"
       ]
      },
      {
       "name": "stdout",
       "output_type": "stream",
       "stream": "stdout",
       "text": [
        "Enter Pin B input for gate Gate_A_and_B-->0\n"
       ]
      },
      {
       "name": "stdout",
       "output_type": "stream",
       "stream": "stdout",
       "text": [
        "Enter Pin A input for gate Gate_C_and_D-->1\n"
       ]
      },
      {
       "name": "stdout",
       "output_type": "stream",
       "stream": "stdout",
       "text": [
        "Enter Pin B input for gate Gate_C_and_D-->0\n"
       ]
      },
      {
       "metadata": {},
       "output_type": "pyout",
       "prompt_number": 82,
       "text": [
        "1"
       ]
      }
     ],
     "prompt_number": 82
    },
    {
     "cell_type": "markdown",
     "metadata": {},
     "source": [
      "### NOT( A and B ) and NOT (C and D)"
     ]
    },
    {
     "cell_type": "code",
     "collapsed": false,
     "input": [
      "g1 = AndGate(\"Gate_A_and_B\")\n",
      "g2 = NotGate(\"Gate_not_g1\")\n",
      "c1 = Connector(g1, g2)\n",
      "\n",
      "g3 = AndGate(\"Gate_C_and_D\")\n",
      "g4 = NotGate(\"Gate_not_g3\")\n",
      "c2 = Connector(g3, g4)\n",
      "\n",
      "g5 = AndGate(\"Gate_g2_and_g4\")\n",
      "c3 = Connector(g2, g5)\n",
      "c4 = Connector(g4, g5)\n",
      "g5.getOutput()"
     ],
     "language": "python",
     "metadata": {},
     "outputs": [
      {
       "name": "stdout",
       "output_type": "stream",
       "stream": "stdout",
       "text": [
        "Enter Pin A input for gate Gate_A_and_B-->1\n"
       ]
      },
      {
       "name": "stdout",
       "output_type": "stream",
       "stream": "stdout",
       "text": [
        "Enter Pin B input for gate Gate_A_and_B-->0\n"
       ]
      },
      {
       "name": "stdout",
       "output_type": "stream",
       "stream": "stdout",
       "text": [
        "Enter Pin A input for gate Gate_C_and_D-->1\n"
       ]
      },
      {
       "name": "stdout",
       "output_type": "stream",
       "stream": "stdout",
       "text": [
        "Enter Pin B input for gate Gate_C_and_D-->0\n"
       ]
      },
      {
       "metadata": {},
       "output_type": "pyout",
       "prompt_number": 83,
       "text": [
        "1"
       ]
      }
     ],
     "prompt_number": 83
    },
    {
     "cell_type": "code",
     "collapsed": false,
     "input": [],
     "language": "python",
     "metadata": {},
     "outputs": []
    }
   ],
   "metadata": {}
  }
 ]
}